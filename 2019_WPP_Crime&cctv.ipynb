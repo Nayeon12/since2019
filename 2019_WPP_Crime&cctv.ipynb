{
 "cells": [
  {
   "cell_type": "markdown",
   "metadata": {},
   "source": [
    "## Term Project 최종"
   ]
  },
  {
   "cell_type": "markdown",
   "metadata": {},
   "source": [
    "### 2019102094 소프트웨어 융합학과 박나연"
   ]
  },
  {
   "cell_type": "markdown",
   "metadata": {},
   "source": [
    "### 주제 : CCTV와 범죄예방의 관련성 "
   ]
  },
  {
   "cell_type": "markdown",
   "metadata": {},
   "source": [
    "(1) 주제 선정 이유: 왜 이 주제(분야)를 선정하게 된 이유를 나열함<br>\n",
    "(2) 가설 정의: 본인이 Term 프로젝트를 통해서 증명하고자 하는 명제 혹은 밝히고자 하는 논리가 무엇인지 설명함<br>\n",
    "(3) 인터넷을 통한 데이터 획득: 위의 명제/논리을 펼치기 위하여, 어디서 Python을 통해 어떻게 데이터를 획득했는지 구체적으로 나열함<br>\n",
    "(4) 분석을 위한 데이터의 가공: 데이터는 가공되지 않으면 의미가 없으므로, 어떻게 어떤 정보를 Pyhton으로 추출했는지 설명함<br>\n",
    "**(5) 분석 결과 도출: 수학적 방법 혹은 논리적 방법을 Python으로 구현함으로서, 프로그램을 통해서 결과를 도출함**<br>\n",
    "(6) 결론: 본인의 명제/논리가 증명/확인 되었는지와 이를 구체적으로 서술함<br>\n",
    "(7) 참고문헌: 위의 작업을 위하여 획득한 자료, 인터넷 정보, 논문, 도서 등을 나열함 <br>\n",
    "(8) 별첨1: (3)의 획득한 데이터 원본<br>\n",
    "(9) 별첨2: (4)의 가공된 데이터 원본<br>\n",
    "(10) 별첨3: (3)을 (4)로 변환하는 등의 작업을 위하여 본인이 직접 개발한 Python 소스코드 원본<br>"
   ]
  },
  {
   "cell_type": "markdown",
   "metadata": {},
   "source": [
    "## (1) 주제 선정 이유"
   ]
  },
  {
   "cell_type": "markdown",
   "metadata": {},
   "source": [
    "최근 늘어나는 범죄 속에서 범죄를 예방하기 위한 도구로 CCTV가 많이 사용되고 있다. <br>\n",
    "그 만큼 CCTV 설치율도 높아지고 있으며 범죄 예방 효과를 기대하고 있는 추세이다. <br>\n",
    "그러나 CCTV가 범인을 잡거나 범죄율을 낮추는 데 크게 기여하지 못하고 있다는 뉴스기사를 읽은 적이 있다.<br>\n",
    "http://www.gocj.net/news/articleView.html?idxno=101485 <br>\n",
    "그래서 서울특별시에 설치된 CCTV를 조사하고, 범죄율을 조사, 비교한 후 CCTV가 범죄 예방과 해결에 비치는 영향을 알아보고 싶었다. <br>\n"
   ]
  },
  {
   "cell_type": "markdown",
   "metadata": {},
   "source": [
    "## (2) 가설 정의"
   ]
  },
  {
   "cell_type": "markdown",
   "metadata": {},
   "source": [
    "주제 선정 이유에서 밝혔듯이 CCTV와 범죄율의 관련성을 분석하기 위해서는 다음이 필요하다.<br>\n",
    "- 우선 실제 서울특별시에 설치된 CCTV의 갯수를 조사한다.<br>\n",
    "- 그리고 **최근 4년간 새로 설치되었던 CCTV 갯수와 4년간 발생한 범죄율을 비교**하여 CCTV설치와 범죄율의 감소의 관련성을 조사해 보고자 한다.<br>\n",
    "(서울특별시의 각 구에 설치된 CCTV의 갯수의 늘어나는 정도와, 그 지역에서 발생한 범죄율의 증감을 비교하는 방식) <br>\n",
    "- 또 범인 검거율도 함께 분석하여 CCTV가 범죄 예방과 해결에 얼마나 기여하는 지를 알아보고자 한다. <br>\n",
    "- 범죄가 일어나는 장소를 추가로 조사 분석하여 앞으로의 CCTV 설치 장소를 생각해본다.<br>\n",
    "\n",
    "가설 정의<br>\n",
    "- CCTV 설치갯수가 늘어갈수록 범죄율이 낮아질 것이며 특히, 검거성공률을 높일 것이다."
   ]
  },
  {
   "cell_type": "markdown",
   "metadata": {},
   "source": [
    "## (3) 인터넷을 통한 데이터 획득"
   ]
  },
  {
   "cell_type": "markdown",
   "metadata": {},
   "source": [
    "'서울 열린 데이터광장' 사이트에서 데이터를 획득한다. <br>\n",
    "http://data.seoul.go.kr/ <br>\n",
    "<br>\n",
    "- 서울시 자치구 년도별 CCTV 설치 현황.csv <br>\n",
    "http://data.seoul.go.kr/dataList/datasetView.do?infId=OA-2734&srvType=S&serviceKind=1&currentPageNo=1&searchValue=&searchKey=null <br>\n",
    "2013년 이전부터 2016년까지 각 구에 설치된 CCTV의 갯수를 파악한다.<br>\n",
    "<br>\n",
    "- 서울시 자치구 목적별 CCTV 설치 현황.csv <br>\n",
    "http://data.seoul.go.kr/dataList/datasetView.do?infId=OA-2722&srvType=S&serviceKind=1&currentPageNo=1&searchValue=&searchKey=null <br>\n",
    "방범용으로 설치된 CCTV의 갯수를 파악한다. <br>\n",
    "<br>\n",
    "- 서울시 5대 범죄 발생현황 통계.txt <br>\n",
    "http://data.seoul.go.kr/dataList/datasetView.do?infId=316&srvType=S&serviceKind=2&currentPageNo=1&searchValue=&searchKey=null <br>\n",
    "2014년부터 2017년까지 4년간 발생한 범죄율을 조사한다.<br>\n",
    "<br>\n",
    "- 서울시 5대 범죄 발생장소 통계.txt <br>\n",
    "http://data.seoul.go.kr/search/newSearch.jsp?query=%EB%B2%94%EC%A3%84+%EC%9E%A5%EC%86%8C <br>\n",
    "<br>\n",
    "위에서 획득한 데이터를 통해 CCTV와 범죄율 증감의 관련성, 검거 성공률을 분석할 수 있다."
   ]
  },
  {
   "cell_type": "markdown",
   "metadata": {},
   "source": [
    "## (4) 분석을 위한 데이터의 가공"
   ]
  },
  {
   "cell_type": "markdown",
   "metadata": {},
   "source": [
    "#### 서울시 자치구 년도별 CCTV 설치 현황"
   ]
  },
  {
   "cell_type": "markdown",
   "metadata": {},
   "source": [
    "- 추가 설치한 CCTV의 갯수"
   ]
  },
  {
   "cell_type": "code",
   "execution_count": 1,
   "metadata": {},
   "outputs": [
    {
     "name": "stdout",
     "output_type": "stream",
     "text": [
      "﻿\"기관명\",\"소계\",\"2013년도 이전\",\"2014년\",\"2015년\",\"2016년\"\n",
      "\"강남구\",\"3238\",\"1292\",\"430\",\"584\",\"932\"\n",
      "\"강동구\",\"1010\",\"379\",\"99\",\"155\",\"377\"\n",
      "\"강북구\",\"831\",\"369\",\"120\",\"138\",\"204\"\n",
      "\"강서구\",\"911\",\"388\",\"258\",\"184\",\"81\"\n",
      "\"관악구\",\"2109\",\"846\",\"260\",\"390\",\"613\"\n",
      "\"광진구\",\"878\",\"573\",\"78\",\"53\",\"174\"\n",
      "\"구로구\",\"1884\",\"1142\",\"173\",\"246\",\"323\"\n",
      "\"금천구\",\"1348\",\"674\",\"51\",\"269\",\"354\"\n",
      "\"노원구\",\"1566\",\"542\",\"57\",\"451\",\"516\"\n",
      "\"도봉구\",\"825\",\"238\",\"159\",\"42\",\"386\"\n",
      "\"동대문구\",\"1870\",\"1070\",\"23\",\"198\",\"579\"\n",
      "\"동작구\",\"1302\",\"544\",\"341\",\"103\",\"314\"\n",
      "\"마포구\",\"980\",\"314\",\"118\",\"169\",\"379\"\n",
      "\"서대문구\",\"1254\",\"844\",\"50\",\"68\",\"292\"\n",
      "\"서초구\",\"2297\",\"1406\",\"157\",\"336\",\"398\"\n",
      "\"성동구\",\"1327\",\"730\",\"91\",\"241\",\"265\"\n",
      "\"성북구\",\"1651\",\"1009\",\"78\",\"360\",\"204\"\n",
      "\"송파구\",\"1081\",\"529\",\"21\",\"68\",\"463\"\n",
      "\"양천구\",\"2482\",\"1843\",\"142\",\"30\",\"467\"\n",
      "\"영등포구\",\"1277\",\"495\",\"214\",\"195\",\"373\"\n",
      "\"용산구\",\"2096\",\"1368\",\"218\",\"112\",\"398\"\n",
      "\"은평구\",\"2108\",\"1138\",\"224\",\"278\",\"468\"\n",
      "\"종로구\",\"1619\",\"464\",\"314\",\"211\",\"630\"\n",
      "\"중구\",\"1023\",\"413\",\"190\",\"72\",\"348\"\n",
      "\"중랑구\",\"916\",\"509\",\"121\",\"177\",\"109\"\n"
     ]
    }
   ],
   "source": [
    "# 획득한 파일 불러오기\n",
    "with open('서울시 자치구 년도별 CCTV 설치 현황.csv', 'r',encoding='UTF8') as file:\n",
    "    contents = file.read()\n",
    "\n",
    "print(contents)"
   ]
  },
  {
   "cell_type": "markdown",
   "metadata": {},
   "source": [
    "#### 실행시켜 입력가능"
   ]
  },
  {
   "cell_type": "code",
   "execution_count": null,
   "metadata": {},
   "outputs": [],
   "source": [
    "fileMatrix1 = []\n",
    "\n",
    "file = open('서울시 자치구 년도별 CCTV 설치 현황.csv', 'r',encoding='UTF8')\n",
    "\n",
    "lineContent = file.readline()\n",
    "\n",
    "while lineContent != '':\n",
    "    fileMatrix1.append(lineContent.strip('\\n').split(','))\n",
    "    lineContent = file.readline()\n",
    "    \n",
    "# 불필요한 문자 없애기\n",
    "for j in range(0,len(fileMatrix1)):\n",
    "    for k in range(0,6):\n",
    "        fileMatrix1[j][k] = fileMatrix1[j][k].replace('\"', '')\n",
    "        fileMatrix1[0][k] = fileMatrix1[0][k].replace('년','')\n",
    "    \n",
    "    \n",
    "print(fileMatrix1)\n",
    "print(\"-\"*20)\n",
    "for j in range(1,len(fileMatrix1)):\n",
    "    print(fileMatrix1[j][0],end = ',')\n",
    "print(\"중에서 입력\")\n",
    "\n",
    "print(\"-\"*20)\n",
    "    \n",
    "for y in range(2,6):\n",
    "    print(fileMatrix1[0][y])\n",
    "    \n",
    "\n",
    "print(\"-\"*20)   \n",
    "print(\"전체 CCTV 갯수\")\n",
    "a = input(\"자치구: \")\n",
    "for i in range(1,len(fileMatrix1)):\n",
    "    if a == fileMatrix1[i][0]:\n",
    "        print (fileMatrix1[i][1],\"개\") \n",
    "\n",
    "print(\"년도별 추가 설치된 CCTV 갯수\")\n",
    "a = input(\"자치구: \")\n",
    "b = input(\"년도: \")\n",
    "for i in range(1,len(fileMatrix1)):\n",
    "    for k in range(2,6):\n",
    "        if a == fileMatrix1[i][0]:\n",
    "            if b == fileMatrix1[0][k]:\n",
    "                print (fileMatrix1[i][k],\"개 추가 설치됨\") \n",
    "   "
   ]
  },
  {
   "cell_type": "markdown",
   "metadata": {},
   "source": [
    "#### 서울시 자치구 목적별 CCTV 설치 현황"
   ]
  },
  {
   "cell_type": "code",
   "execution_count": 2,
   "metadata": {
    "scrolled": true
   },
   "outputs": [
    {
     "name": "stdout",
     "output_type": "stream",
     "text": [
      "﻿\"기관명\",\"소계\",\"방범용\",\"도시공원, 놀이터\",\"어린이 보호\",\"쓰레기 무단투기\",\"기타\"\n",
      "\"강남구\",\"3238\",\"2076\",\"261\",\"443\",\"0\",\"458\"\n",
      "\"강동구\",\"1010\",\"537\",\"84\",\"125\",\"27\",\"237\"\n",
      "\"강북구\",\"831\",\"469\",\"86\",\"108\",\"85\",\"83\"\n",
      "\"강서구\",\"911\",\"623\",\"51\",\"182\",\"28\",\"27\"\n",
      "\"관악구\",\"2109\",\"1083\",\"161\",\"195\",\"57\",\"613\"\n",
      "\"광진구\",\"878\",\"376\",\"51\",\"208\",\"72\",\"171\"\n",
      "\"구로구\",\"1884\",\"823\",\"294\",\"415\",\"29\",\"323\"\n",
      "\"금천구\",\"1348\",\"676\",\"119\",\"188\",\"32\",\"333\"\n",
      "\"노원구\",\"1566\",\"753\",\"192\",\"205\",\"115\",\"301\"\n",
      "\"도봉구\",\"825\",\"260\",\"89\",\"89\",\"47\",\"340\"\n",
      "\"동대문구\",\"1870\",\"948\",\"71\",\"247\",\"28\",\"576\"\n",
      "\"동작구\",\"1302\",\"693\",\"88\",\"291\",\"19\",\"211\"\n",
      "\"마포구\",\"980\",\"387\",\"86\",\"101\",\"0\",\"406\"\n",
      "\"서대문구\",\"1254\",\"603\",\"230\",\"129\",\"0\",\"292\"\n",
      "\"서초구\",\"2297\",\"1552\",\"62\",\"316\",\"0\",\"367\"\n",
      "\"성동구\",\"1327\",\"663\",\"56\",\"305\",\"38\",\"265\"\n",
      "\"성북구\",\"1651\",\"974\",\"72\",\"320\",\"98\",\"187\"\n",
      "\"송파구\",\"1081\",\"331\",\"139\",\"129\",\"19\",\"463\"\n",
      "\"양천구\",\"2482\",\"1216\",\"77\",\"722\",\"19\",\"448\"\n",
      "\"영등포구\",\"1277\",\"653\",\"91\",\"122\",\"38\",\"373\"\n",
      "\"용산구\",\"2096\",\"1336\",\"113\",\"168\",\"7\",\"472\"\n",
      "\"은평구\",\"2108\",\"1147\",\"196\",\"527\",\"3\",\"235\"\n",
      "\"종로구\",\"1619\",\"891\",\"73\",\"38\",\"0\",\"617\"\n",
      "\"중구\",\"1023\",\"495\",\"96\",\"20\",\"60\",\"352\"\n",
      "\"중랑구\",\"916\",\"532\",\"74\",\"54\",\"0\",\"256\"\n"
     ]
    }
   ],
   "source": [
    "# 획득한 파일 불러오기\n",
    "with open('서울시 자치구 목적별 CCTV 설치 현황.csv', 'r',encoding='UTF8') as file:\n",
    "    contents = file.read()\n",
    "\n",
    "print(contents)"
   ]
  },
  {
   "cell_type": "markdown",
   "metadata": {},
   "source": [
    "#### 실행시켜 입력가능"
   ]
  },
  {
   "cell_type": "code",
   "execution_count": null,
   "metadata": {},
   "outputs": [],
   "source": [
    "fileMatrix2 = []\n",
    "\n",
    "file = open('서울시 자치구 목적별 CCTV 설치 현황.csv', 'r',encoding='UTF8')\n",
    "\n",
    "lineContent = file.readline()\n",
    "\n",
    "while lineContent != '':\n",
    "    fileMatrix2.append(lineContent.strip('\\n').split(','))\n",
    "    lineContent = file.readline()\n",
    "    \n",
    "# 불필요한 문자 없애기\n",
    "for j in range(0,len(fileMatrix2)):\n",
    "    fileMatrix2[j][0] = fileMatrix2[j][0].replace('\"', '')\n",
    "    fileMatrix2[j][1] = fileMatrix2[j][1].replace('\"', '')\n",
    "for j in range(0,len(fileMatrix2)):\n",
    "    fileMatrix2[j][2] = fileMatrix2[j][2].replace('\"','')\n",
    "    \n",
    "print(fileMatrix2)\n",
    "print(\"-\"*20)\n",
    "for j in range(1,len(fileMatrix2)):\n",
    "    print(fileMatrix2[j][0],end =',')\n",
    "print(\"중에서 입력\")\n",
    "print(\"-\"*20)\n",
    "\n",
    "print(\"전체 CCTV\")\n",
    "a = input(\"자치구: \")\n",
    "for i in range(1,len(fileMatrix2)):\n",
    "    if a == fileMatrix2[i][0]:\n",
    "        print (fileMatrix2[i][1],\"개\") \n",
    "        \n",
    "print(\"-\"*20)\n",
    "        \n",
    "print(\"방범용 CCTV\")\n",
    "a = input(\"자치구: \")\n",
    "for i in range(1,len(fileMatrix2)):\n",
    "    if a == fileMatrix2[i][0]:\n",
    "        print (fileMatrix2[i][2],\"개\")\n",
    "    "
   ]
  },
  {
   "cell_type": "markdown",
   "metadata": {},
   "source": [
    "#### 서울시 5대 범죄 현황 (2014 - 2017)"
   ]
  },
  {
   "cell_type": "code",
   "execution_count": 13,
   "metadata": {},
   "outputs": [
    {
     "name": "stdout",
     "output_type": "stream",
     "text": [
      "기간,자치구,합계,합계,살인,살인,강도,강도,강간강제추행,강간강제추행,절도,절도,폭력,폭력\n",
      "기간,자치구,발생,검거,발생,검거,발생,검거,발생,검거,발생,검거,발생,검거\n",
      "2014,합계,130674 ,79061 ,158,152,343,299,\"5,462\",\"4,957\",\"59,393\",\"19,120\",\"65,318\",\"54,533\"\n",
      "2014,종로구,5021 ,4610 ,3,7,12,15,226,948,\"2,272\",\"1,281\",\"2,508\",\"2,359\"\n",
      "2014,중구,5231 ,3188 ,6,5,13,13,221,161,\"2,576\",887,\"2,415\",\"2,122\"\n",
      "2014,용산구,3799 ,2340 ,1,2,7,7,213,169,\"1,560\",522,\"2,018\",\"1,640\"\n",
      "2014,성동구,3582 ,2048 ,1,1,5,6,141,103,\"1,753\",529,\"1,682\",\"1,409\"\n",
      "2014,광진구,6268 ,3531 ,8,9,16,22,249,199,\"3,167\",\"1,001\",\"2,828\",\"2,300\"\n",
      "2014,동대문구,4363 ,2882 ,12,11,13,8,141,112,\"1,809\",676,\"2,388\",\"2,075\"\n",
      "2014,중랑구,5353 ,3259 ,11,10,14,11,163,118,\"2,390\",823,\"2,775\",\"2,297\"\n",
      "2014,성북구,4606 ,3028 ,8,5,16,20,165,128,\"2,130\",935,\"2,287\",\"1,940\"\n",
      "2014,강북구,4030 ,2806 ,6,5,21,10,189,152,\"1,494\",575,\"2,320\",\"2,064\"\n",
      "2014,도봉구,3124 ,1986 ,6,7,11,15,172,159,\"1,350\",478,\"1,585\",\"1,327\"\n",
      "2014,노원구,5312 ,3300 ,5,4,8,7,173,136,\"2,404\",803,\"2,722\",\"2,350\"\n",
      "2014,은평구,5431 ,3325 ,5,3,24,21,188,158,\"2,352\",798,\"2,862\",\"2,345\"\n",
      "2014,서대문구,4194 ,2588 ,3,3,4,7,185,150,\"1,883\",665,\"2,119\",\"1,763\"\n",
      "2014,마포구,5740 ,3136 ,4,4,22,9,265,218,\"2,763\",742,\"2,686\",\"2,163\"\n",
      "2014,양천구,4642 ,2654 ,5,5,11,10,129,96,\"2,058\",630,\"2,439\",\"1,913\"\n",
      "2014,강서구,5289 ,3225 ,8,6,9,9,214,179,\"2,341\",734,\"2,717\",\"2,297\"\n",
      "2014,구로구,5389 ,2985 ,3,3,14,10,252,186,\"2,377\",579,\"2,743\",\"2,207\"\n",
      "2014,금천구,3842 ,2434 ,7,7,9,6,162,133,\"1,552\",496,\"2,112\",\"1,792\"\n",
      "2014,영등포구,7003 ,4072 ,14,15,10,5,250,183,\"3,080\",892,\"3,649\",\"2,977\"\n",
      "2014,동작구,3869 ,2312 ,2,2,9,7,203,120,\"1,787\",603,\"1,868\",\"1,580\"\n",
      "2014,관악구,6781 ,3701 ,7,8,25,22,361,238,\"3,029\",784,\"3,359\",\"2,649\"\n",
      "2014,서초구,5558 ,3122 ,6,9,14,12,285,184,\"2,747\",782,\"2,506\",\"2,135\"\n",
      "2014,강남구,8851 ,5262 ,13,9,37,29,512,403,\"3,895\",\"1,193\",\"4,394\",\"3,628\"\n",
      "2014,송파구,8004 ,3982 ,9,8,9,10,255,195,\"4,199\",885,\"3,532\",\"2,884\"\n",
      "2014,강동구,5392 ,3285 ,5,4,10,8,148,129,\"2,425\",827,\"2,804\",\"2,317\"\n",
      "2015,합계,126401 ,82680 ,163,156,276,257,\"5,449\",\"5,069\",\"55,307\",\"21,842\",\"65,206\",\"55,356\"\n",
      "2015,종로구,4705 ,4430 ,6,8,11,13,211,\"1,139\",\"2,184\",\"1,145\",\"2,293\",\"2,125\"\n",
      "2015,중구,4954 ,2942 ,3,2,9,6,170,111,\"2,548\",859,\"2,224\",\"1,964\"\n",
      "2015,용산구,3820 ,2483 ,5,5,14,14,194,173,\"1,557\",587,\"2,050\",\"1,704\"\n",
      "2015,성동구,3358 ,2123 ,4,4,9,8,126,119,\"1,607\",597,\"1,612\",\"1,395\"\n",
      "2015,광진구,5909 ,3707 ,4,4,14,26,240,220,\"3,026\",\"1,277\",\"2,625\",\"2,180\"\n",
      "2015,동대문구,4720 ,3205 ,5,5,13,13,173,146,\"1,981\",814,\"2,548\",\"2,227\"\n",
      "2015,중랑구,5193 ,3405 ,13,12,11,9,187,148,\"2,135\",829,\"2,847\",\"2,407\"\n",
      "2015,성북구,4154 ,2729 ,5,5,5,4,150,124,\"1,785\",741,\"2,209\",\"1,855\"\n",
      "2015,강북구,4257 ,3113 ,7,8,14,13,153,126,\"1,434\",618,\"2,649\",\"2,348\"\n",
      "2015,도봉구,2664 ,1900 ,3,3,9,10,102,106,\"1,063\",478,\"1,487\",\"1,303\"\n",
      "2015,노원구,5130 ,3268 ,10,10,7,7,197,121,\"2,193\",801,\"2,723\",\"2,329\"\n",
      "2015,은평구,4745 ,3167 ,3,3,9,6,166,141,\"1,914\",711,\"2,653\",\"2,306\"\n",
      "2015,서대문구,4029 ,2579 ,2,2,5,4,154,124,\"1,812\",738,\"2,056\",\"1,711\"\n",
      "2015,마포구,5854 ,3597 ,8,8,14,10,294,247,\"2,555\",813,\"2,983\",\"2,519\"\n",
      "2015,양천구,4528 ,2815 ,3,5,6,3,120,105,\"1,890\",672,\"2,509\",\"2,030\"\n",
      "2015,강서구,5585 ,4190 ,7,8,13,13,262,191,\"2,096\",\"1,260\",\"3,207\",\"2,718\"\n",
      "2015,구로구,5646 ,3502 ,8,6,15,11,281,164,\"2,335\",889,\"3,007\",\"2,432\"\n",
      "2015,금천구,3781 ,2796 ,3,4,6,6,151,122,\"1,567\",888,\"2,054\",\"1,776\"\n",
      "2015,영등포구,6867 ,4154 ,14,12,22,20,295,183,\"2,964\",978,\"3,572\",\"2,961\"\n",
      "2015,동작구,4074 ,2397 ,5,5,9,5,285,139,\"1,865\",661,\"1,910\",\"1,587\"\n",
      "2015,관악구,6345 ,3712 ,9,8,12,14,320,221,\"2,706\",827,\"3,298\",\"2,642\"\n",
      "2015,서초구,5444 ,3450 ,8,6,9,6,393,249,\"2,635\",\"1,091\",\"2,399\",\"2,098\"\n",
      "2015,강남구,8617 ,5732 ,13,10,21,18,449,349,\"3,850\",\"1,650\",\"4,284\",\"3,705\"\n",
      "2015,송파구,6778 ,4113 ,11,10,13,10,220,178,\"3,239\",\"1,129\",\"3,295\",\"2,786\"\n",
      "2015,강동구,5244 ,3171 ,4,3,6,8,156,123,\"2,366\",789,\"2,712\",\"2,248\"\n",
      "2016,합계,117839 ,84421 ,148,147,262,257,\"6,002\",\"5,565\",\"46,857\",\"22,566\",\"64,570\",\"55,886\"\n",
      "2016,종로구,4459 ,4298 ,6,5,12,14,238,\"1,106\",\"1,940\",\"1,020\",\"2,263\",\"2,153\"\n",
      "2016,중구,4584 ,3068 ,3,3,8,7,198,148,\"2,150\",914,\"2,225\",\"1,996\"\n",
      "2016,용산구,4137 ,2835 ,4,4,9,10,251,214,\"1,489\",599,\"2,384\",\"2,008\"\n",
      "2016,성동구,3026 ,2392 ,4,5,3,5,104,78,\"1,296\",896,\"1,619\",\"1,408\"\n",
      "2016,광진구,5322 ,3312 ,4,4,11,6,279,234,\"2,636\",\"1,057\",\"2,392\",\"2,011\"\n",
      "2016,동대문구,4787 ,3623 ,5,5,10,12,190,158,\"1,940\",\"1,071\",\"2,642\",\"2,377\"\n",
      "2016,중랑구,5041 ,3935 ,8,7,14,14,164,150,\"1,691\",\"1,052\",\"3,164\",\"2,712\"\n",
      "2016,성북구,3744 ,2672 ,4,3,8,8,154,117,\"1,470\",725,\"2,108\",\"1,819\"\n",
      "2016,강북구,4229 ,3323 ,7,6,5,4,217,159,\"1,222\",672,\"2,778\",\"2,482\"\n",
      "2016,도봉구,2438 ,1930 ,3,3,5,5,123,121,866,492,\"1,441\",\"1,309\"\n",
      "2016,노원구,4543 ,3021 ,5,6,6,9,159,142,\"1,857\",740,\"2,516\",\"2,124\"\n",
      "2016,은평구,4501 ,3353 ,6,6,9,7,156,142,\"1,666\",890,\"2,664\",\"2,308\"\n",
      "2016,서대문구,3665 ,2554 ,6,7,5,4,175,147,\"1,503\",752,\"1,976\",\"1,644\"\n",
      "2016,마포구,5873 ,3771 ,4,4,4,7,399,320,\"2,527\",940,\"2,939\",\"2,500\"\n",
      "2016,양천구,4112 ,2793 ,5,5,7,7,131,108,\"1,719\",755,\"2,250\",\"1,918\"\n",
      "2016,강서구,5450 ,4097 ,9,10,10,10,275,239,\"1,952\",\"1,070\",\"3,204\",\"2,768\"\n",
      "2016,구로구,5366 ,3744 ,9,9,10,13,273,181,\"1,910\",861,\"3,164\",\"2,680\"\n",
      "2016,금천구,3645 ,2756 ,6,6,7,7,175,143,\"1,264\",654,\"2,193\",\"1,946\"\n",
      "2016,영등포구,6322 ,4199 ,13,13,19,14,356,225,\"2,341\",940,\"3,593\",\"3,007\"\n",
      "2016,동작구,3227 ,2160 ,8,6,7,7,325,149,\"1,226\",554,\"1,661\",\"1,444\"\n",
      "2016,관악구,5678 ,3925 ,6,7,12,10,322,264,\"2,103\",937,\"3,235\",\"2,707\"\n",
      "2016,서초구,4989 ,3422 ,5,5,13,10,428,271,\"2,205\",\"1,107\",\"2,338\",\"2,029\"\n",
      "2016,강남구,8149 ,5905 ,5,5,39,42,516,413,\"3,587\",\"1,918\",\"4,002\",\"3,527\"\n",
      "2016,송파구,6090 ,4060 ,9,8,15,12,234,184,\"2,543\",\"1,048\",\"3,289\",\"2,808\"\n",
      "2016,강동구,4462 ,3273 ,4,5,14,13,160,152,\"1,754\",902,\"2,530\",\"2,201\"\n",
      "2017,합계,107835 ,79865 ,142,140,169,170,\"6,963\",\"6,558\",\"41,162\",\"21,421\",\"59,399\",\"51,576\"\n",
      "2017,종로구,4057 ,4437 ,7,9,10,15,253,\"1,412\",\"1,644\",905,\"2,143\",\"2,096\"\n",
      "2017,중구,4184 ,2851 ,1,-,9,9,267,149,\"1,846\",889,\"2,061\",\"1,804\"\n",
      "2017,용산구,4060 ,2936 ,1,1,5,4,327,289,\"1,346\",626,\"2,381\",\"2,016\"\n",
      "2017,성동구,2767 ,2031 ,1,1,3,3,132,106,\"1,072\",543,\"1,559\",\"1,378\"\n",
      "2017,광진구,4646 ,3289 ,6,5,13,8,261,208,\"2,220\",\"1,168\",\"2,146\",\"1,900\"\n",
      "2017,동대문구,3975 ,3274 ,11,10,3,5,165,149,\"1,547\",\"1,017\",\"2,249\",\"2,093\"\n",
      "2017,중랑구,4571 ,3392 ,5,5,3,4,172,144,\"1,533\",813,\"2,858\",\"2,426\"\n",
      "2017,성북구,3434 ,2479 ,7,7,8,8,173,134,\"1,344\",703,\"1,902\",\"1,627\"\n",
      "2017,강북구,3393 ,2824 ,8,8,7,5,208,153,\"1,014\",635,\"2,156\",\"2,023\"\n",
      "2017,도봉구,1999 ,1652 ,1,1,3,3,104,115,633,417,\"1,258\",\"1,116\"\n",
      "2017,노원구,4209 ,3047 ,4,4,9,7,180,155,\"1,538\",757,\"2,478\",\"2,124\"\n",
      "2017,은평구,3883 ,3207 ,6,6,4,4,230,213,\"1,387\",934,\"2,256\",\"2,050\"\n",
      "2017,서대문구,3113 ,2299 ,4,4,1,2,202,181,\"1,230\",719,\"1,676\",\"1,393\"\n",
      "2017,마포구,5278 ,3499 ,3,3,8,8,500,429,\"2,094\",837,\"2,673\",\"2,222\"\n",
      "2017,양천구,3882 ,2660 ,3,2,3,2,138,122,\"1,590\",756,\"2,148\",\"1,778\"\n",
      "2017,강서구,5135 ,3927 ,11,11,4,6,316,253,\"1,888\",\"1,113\",\"2,916\",\"2,544\"\n",
      "2017,구로구,4895 ,3408 ,7,8,8,6,328,181,\"1,725\",869,\"2,827\",\"2,344\"\n",
      "2017,금천구,3265 ,2572 ,5,5,5,5,240,212,\"1,141\",674,\"1,874\",\"1,676\"\n",
      "2017,영등포구,5969 ,4012 ,15,13,5,5,455,267,\"2,304\",\"1,108\",\"3,190\",\"2,619\"\n",
      "2017,동작구,3330 ,2242 ,1,1,7,9,396,173,\"1,226\",593,\"1,700\",\"1,466\"\n",
      "2017,관악구,5525 ,4154 ,8,7,7,6,379,323,\"1,979\",\"1,152\",\"3,152\",\"2,666\"\n",
      "2017,서초구,4708 ,3237 ,9,10,13,7,470,283,\"1,812\",835,\"2,404\",\"2,102\"\n",
      "2017,강남구,7720 ,5321 ,7,7,20,24,607,496,\"3,130\",\"1,383\",\"3,956\",\"3,411\"\n",
      "2017,송파구,5576 ,3870 ,6,6,1,3,288,242,\"2,274\",\"1,026\",\"3,007\",\"2,593\"\n",
      "2017,강동구,4261 ,3245 ,5,6,10,12,172,169,\"1,645\",949,\"2,429\",\"2,109\"\n",
      "\n"
     ]
    }
   ],
   "source": [
    "# txt를 엑셀에서 csv 파일로 전환함\n",
    "\n",
    "with open('서울시_범죄현황_20142017.csv', 'r') as file:\n",
    "    contents = file.read()\n",
    "\n",
    "print(contents)"
   ]
  },
  {
   "cell_type": "markdown",
   "metadata": {},
   "source": [
    "#### 실행시켜 입력가능"
   ]
  },
  {
   "cell_type": "code",
   "execution_count": 1,
   "metadata": {},
   "outputs": [
    {
     "name": "stdout",
     "output_type": "stream",
     "text": [
      "종로구,중구,용산구,성동구,광진구,동대문구,중랑구,성북구,강북구,도봉구,노원구,은평구,서대문구,마포구,양천구,강서구,구로구,금천구,영등포구,동작구,관악구,서초구,강남구,송파구,강동구,중에서 입력\n",
      "--------------------\n",
      "2014,2015,2016,2017\n",
      "중에서 입력\n",
      "--------------------\n",
      "년도별 발생건수\n",
      "자치구: 중구\n",
      "년도: 2014\n",
      "5231  건\n",
      "--------------------\n",
      "년도별 검거횟수\n",
      "자치구: 중구\n",
      "년도: 2014\n",
      "3188  건\n"
     ]
    }
   ],
   "source": [
    "fileMatrix3 = []\n",
    "\n",
    "file = open('서울시_범죄현황_20142017.csv', 'r')\n",
    "\n",
    "lineContent = file.readline()\n",
    "\n",
    "while lineContent != '':\n",
    "    fileMatrix3.append(lineContent.strip('\\n').split(','))\n",
    "    lineContent = file.readline()\n",
    "    \n",
    "# 불필요한 문자 없애기\n",
    "for j in range(0,len(fileMatrix3)):\n",
    "    fileMatrix3[j][2] = fileMatrix3[j][2].replace('\"', '')\n",
    "    fileMatrix3[j][3] = fileMatrix3[j][3].replace(',', '')\n",
    "    fileMatrix3[j][2] = fileMatrix3[j][2].replace(',', '')\n",
    "    fileMatrix3[j][3] = fileMatrix3[j][3].replace(',', '')\n",
    "    \n",
    "for y in range(3,28):\n",
    "    print(fileMatrix3[y][1],end =',')\n",
    "print(\"중에서 입력\")\n",
    "print(\"-\"*20)\n",
    "print(\"2014,2015,2016,2017\")\n",
    "print(\"중에서 입력\")\n",
    "print(\"-\"*20)\n",
    "    \n",
    "# 발생 건수 \n",
    "print(\"년도별 발생건수\")\n",
    "a = input(\"자치구: \")\n",
    "b = input(\"년도: \")\n",
    "if b == \"2014\":\n",
    "    for i in range(3,29):\n",
    "        if a == fileMatrix3[i][1]:\n",
    "            print (fileMatrix3[i][2],\"건\")\n",
    "if b == \"2015\":\n",
    "    for i in range(29,55):\n",
    "        if a == fileMatrix3[i][1]:\n",
    "            print (fileMatrix3[i][2],\"건\")\n",
    "if b == \"2016\":\n",
    "    for i in range(55,81):\n",
    "        if a == fileMatrix3[i][1]:\n",
    "            print (fileMatrix3[i][2],\"건\")\n",
    "if b == \"2017\":\n",
    "    for i in range(81,len(fileMatrix3)):\n",
    "        if a == fileMatrix3[i][1]:\n",
    "            print (fileMatrix3[i][2],\"건\")\n",
    "\n",
    "            \n",
    "# 검거 횟수 \n",
    "print(\"-\"*20)\n",
    "print(\"년도별 검거횟수\")\n",
    "c = input(\"자치구: \")\n",
    "d = input(\"년도: \")\n",
    "if d == \"2014\":\n",
    "    for i in range(3,29):\n",
    "        if c == fileMatrix3[i][1]:\n",
    "            print (fileMatrix3[i][3],\"건\")\n",
    "if d == \"2015\":\n",
    "    for i in range(29,55):\n",
    "        if c == fileMatrix3[i][1]:\n",
    "            print (fileMatrix3[i][3],\"건\")\n",
    "if d == \"2016\":\n",
    "    for i in range(55,81):\n",
    "        if c == fileMatrix3[i][1]:\n",
    "            print (fileMatrix3[i][3],\"건\")\n",
    "if d == \"2017\":\n",
    "    for i in range(81,len(fileMatrix3)):\n",
    "        if c == fileMatrix3[i][1]:\n",
    "            print (fileMatrix3[i][3],\"건\")\n"
   ]
  },
  {
   "cell_type": "markdown",
   "metadata": {},
   "source": [
    "#### 서울시 5대 범죄 발생 장소 (2014 - 2017)"
   ]
  },
  {
   "cell_type": "code",
   "execution_count": 12,
   "metadata": {},
   "outputs": [
    {
     "name": "stdout",
     "output_type": "stream",
     "text": [
      "기간,구분,계,아파트 연립다세대,단독주택,노상,상점,숙박업소목욕탕,유흥접객업소,사무실,역대합실,교통수단,유원지,학교,금융기관,기타\n",
      "2014,계,130674 ,5671 ,7325 ,39067 ,5068 ,2320 ,5993 ,2940 ,874 ,2079 ,1057 ,679 ,1530 ,56071 \n",
      "2014,살인,158 ,22 ,36 ,33 ,-,8 ,6 ,9 ,-,1 ,1 ,-,-,42 \n",
      "2014,강도,343 ,37 ,36 ,92 ,45 ,10 ,17 ,11 ,2 ,1 ,5 ,-,-,87 \n",
      "2014,강간강제추행,5462 ,296 ,404 ,1007 ,102 ,471 ,364 ,127 ,144 ,694 ,48 ,26 ,1 ,1778 \n",
      "2014,절도,59393 ,2765 ,3655 ,11931 ,3988 ,1506 ,2452 ,1216 ,401 ,936 ,472 ,425 ,1482 ,28164 \n",
      "2014,폭력,65318 ,2551 ,3194 ,26004 ,933 ,325 ,3154 ,1577 ,327 ,447 ,531 ,228 ,47 ,26000 \n",
      "2015,계,126401 ,5039 ,6408 ,37548 ,4816 ,1638 ,5004 ,2458 ,843 ,2173 ,951 ,640 ,1322 ,57561 \n",
      "2015,살인,163 ,20 ,39 ,37 ,1 ,3 ,5 ,3 ,-,-,4 ,1 ,-,50 \n",
      "2015,강도,276 ,20 ,23 ,70 ,34 ,15 ,14 ,8 ,-,3 ,1 ,-,3 ,85 \n",
      "2015,강간강제추행,5449 ,283 ,346 ,924 ,73 ,395 ,342 ,91 ,181 ,812 ,51 ,46 ,1 ,1904 \n",
      "2015,절도,55307 ,1866 ,2498 ,11407 ,3903 ,952 ,2204 ,994 ,407 ,1026 ,424 ,397 ,1273 ,27956 \n",
      "2015,폭력,65206 ,2850 ,3502 ,25110 ,805 ,273 ,2439 ,1362 ,255 ,332 ,471 ,196 ,45 ,27566 \n",
      "2016,계,117839 ,4660 ,6266 ,35003 ,5385 ,1533 ,5098 ,2052 ,808 ,2197 ,854 ,636 ,1127 ,52220 \n",
      "2016,살인,148 ,12 ,30 ,22 ,1 ,4 ,8 ,1 ,-,-,2 ,-,1 ,67 \n",
      "2016,강도,262 ,20 ,15 ,86 ,34 ,9 ,13 ,8 ,-,1 ,2 ,-,1 ,73 \n",
      "2016,강간강제추행,6002 ,284 ,395 ,986 ,95 ,389 ,398 ,132 ,181 ,841 ,59 ,33 ,2 ,2207 \n",
      "2016,절도,46857 ,1504 ,2246 ,9356 ,4403 ,828 ,2034 ,682 ,355 ,889 ,367 ,400 ,1081 ,22712 \n",
      "2016,폭력,64570 ,2840 ,3580 ,24553 ,852 ,303 ,2645 ,1229 ,272 ,466 ,424 ,203 ,42 ,27161 \n",
      "2017,계,107835 ,4523 ,5092 ,32063 ,5047 ,1437 ,5077 ,1772 ,908 ,2359 ,754 ,518 ,1024 ,47261 \n",
      "2017,살인,142 ,21 ,25 ,27 ,1 ,5 ,10 ,5 ,-,1 ,1 ,-,-,46 \n",
      "2017,강도,169 ,20 ,11 ,43 ,22 ,8 ,5 ,5 ,1 ,-,1 ,-,3 ,50 \n",
      "2017,강간강제추행,6963 ,319 ,413 ,1061 ,116 ,408 ,495 ,130 ,242 ,1105 ,51 ,49 ,1 ,2573 \n",
      "2017,절도,41162 ,1209 ,1340 ,8255 ,4119 ,670 ,1809 ,564 ,335 ,744 ,282 ,247 ,990 ,20598 \n",
      "2017,폭력,59399 ,2954 ,3303 ,22677 ,789 ,346 ,2758 ,1068 ,330 ,509 ,419 ,222 ,30 ,23994 \n",
      "\n"
     ]
    }
   ],
   "source": [
    "# txt를 엑셀로 csv 파일로 전환함\n",
    "\n",
    "with open('서울시_범죄장소_20142017.csv', 'r') as file:\n",
    "    contents = file.read()\n",
    "\n",
    "print(contents)"
   ]
  },
  {
   "cell_type": "markdown",
   "metadata": {},
   "source": [
    "#### 실행시켜 입력가능"
   ]
  },
  {
   "cell_type": "code",
   "execution_count": 5,
   "metadata": {},
   "outputs": [
    {
     "name": "stdout",
     "output_type": "stream",
     "text": [
      "[['기간', '구분', '계', '아파트 연립다세대', '단독주택', '노상', '상점', '숙박업소목욕탕', '유흥접객업소', '사무실', '역대합실', '교통수단', '유원지', '학교', '금융기관', '기타'], ['2014', '계', '130674 ', '5671 ', '7325 ', '39067 ', '5068 ', '2320 ', '5993 ', '2940 ', '874 ', '2079 ', '1057 ', '679 ', '1530 ', '56071 '], ['2014', '살인', '158 ', '22 ', '36 ', '33 ', '-', '8 ', '6 ', '9 ', '-', '1 ', '1 ', '-', '-', '42 '], ['2014', '강도', '343 ', '37 ', '36 ', '92 ', '45 ', '10 ', '17 ', '11 ', '2 ', '1 ', '5 ', '-', '-', '87 '], ['2014', '강간강제추행', '5462 ', '296 ', '404 ', '1007 ', '102 ', '471 ', '364 ', '127 ', '144 ', '694 ', '48 ', '26 ', '1 ', '1778 '], ['2014', '절도', '59393 ', '2765 ', '3655 ', '11931 ', '3988 ', '1506 ', '2452 ', '1216 ', '401 ', '936 ', '472 ', '425 ', '1482 ', '28164 '], ['2014', '폭력', '65318 ', '2551 ', '3194 ', '26004 ', '933 ', '325 ', '3154 ', '1577 ', '327 ', '447 ', '531 ', '228 ', '47 ', '26000 '], ['2015', '계', '126401 ', '5039 ', '6408 ', '37548 ', '4816 ', '1638 ', '5004 ', '2458 ', '843 ', '2173 ', '951 ', '640 ', '1322 ', '57561 '], ['2015', '살인', '163 ', '20 ', '39 ', '37 ', '1 ', '3 ', '5 ', '3 ', '-', '-', '4 ', '1 ', '-', '50 '], ['2015', '강도', '276 ', '20 ', '23 ', '70 ', '34 ', '15 ', '14 ', '8 ', '-', '3 ', '1 ', '-', '3 ', '85 '], ['2015', '강간강제추행', '5449 ', '283 ', '346 ', '924 ', '73 ', '395 ', '342 ', '91 ', '181 ', '812 ', '51 ', '46 ', '1 ', '1904 '], ['2015', '절도', '55307 ', '1866 ', '2498 ', '11407 ', '3903 ', '952 ', '2204 ', '994 ', '407 ', '1026 ', '424 ', '397 ', '1273 ', '27956 '], ['2015', '폭력', '65206 ', '2850 ', '3502 ', '25110 ', '805 ', '273 ', '2439 ', '1362 ', '255 ', '332 ', '471 ', '196 ', '45 ', '27566 '], ['2016', '계', '117839 ', '4660 ', '6266 ', '35003 ', '5385 ', '1533 ', '5098 ', '2052 ', '808 ', '2197 ', '854 ', '636 ', '1127 ', '52220 '], ['2016', '살인', '148 ', '12 ', '30 ', '22 ', '1 ', '4 ', '8 ', '1 ', '-', '-', '2 ', '-', '1 ', '67 '], ['2016', '강도', '262 ', '20 ', '15 ', '86 ', '34 ', '9 ', '13 ', '8 ', '-', '1 ', '2 ', '-', '1 ', '73 '], ['2016', '강간강제추행', '6002 ', '284 ', '395 ', '986 ', '95 ', '389 ', '398 ', '132 ', '181 ', '841 ', '59 ', '33 ', '2 ', '2207 '], ['2016', '절도', '46857 ', '1504 ', '2246 ', '9356 ', '4403 ', '828 ', '2034 ', '682 ', '355 ', '889 ', '367 ', '400 ', '1081 ', '22712 '], ['2016', '폭력', '64570 ', '2840 ', '3580 ', '24553 ', '852 ', '303 ', '2645 ', '1229 ', '272 ', '466 ', '424 ', '203 ', '42 ', '27161 '], ['2017', '계', '107835 ', '4523 ', '5092 ', '32063 ', '5047 ', '1437 ', '5077 ', '1772 ', '908 ', '2359 ', '754 ', '518 ', '1024 ', '47261 '], ['2017', '살인', '142 ', '21 ', '25 ', '27 ', '1 ', '5 ', '10 ', '5 ', '-', '1 ', '1 ', '-', '-', '46 '], ['2017', '강도', '169 ', '20 ', '11 ', '43 ', '22 ', '8 ', '5 ', '5 ', '1 ', '-', '1 ', '-', '3 ', '50 '], ['2017', '강간강제추행', '6963 ', '319 ', '413 ', '1061 ', '116 ', '408 ', '495 ', '130 ', '242 ', '1105 ', '51 ', '49 ', '1 ', '2573 '], ['2017', '절도', '41162 ', '1209 ', '1340 ', '8255 ', '4119 ', '670 ', '1809 ', '564 ', '335 ', '744 ', '282 ', '247 ', '990 ', '20598 '], ['2017', '폭력', '59399 ', '2954 ', '3303 ', '22677 ', '789 ', '346 ', '2758 ', '1068 ', '330 ', '509 ', '419 ', '222 ', '30 ', '23994 ']]\n",
      "2014,2015,2016,2017\n",
      "--------------------\n",
      "아파트 연립다세대, 단독주택, 노상, 상점, 숙박업소목욕탕,유흥접객업소,사무실,역대합실,교통수단,유원지,학교, 금융기관,기타\n",
      "년도: 2014\n",
      "총 : 130674 \n",
      "아파트 연립다세대 : 5671 \n",
      "단독주택 : 7325 \n",
      "노상 : 39067 \n",
      "상점 : 5068 \n",
      "숙박업소목욕탕 : 2320 \n",
      "유흥접객업소 : 5993 \n",
      "사무실 : 2940 \n",
      "역대합실 : 874 \n",
      "교통수단 : 2079 \n",
      "유원지 : 1057 \n",
      "학교 : 679 \n",
      "금융기관 : 1530 \n",
      "기타 : 56071 \n"
     ]
    }
   ],
   "source": [
    "fileMatrix4 = []\n",
    "\n",
    "file = open('서울시_범죄장소_20142017.csv', 'r')\n",
    "\n",
    "lineContent = file.readline()\n",
    "\n",
    "while lineContent != '':\n",
    "    fileMatrix4.append(lineContent.strip('\\n').split(','))\n",
    "    lineContent = file.readline()\n",
    "    \n",
    "print(fileMatrix4)\n",
    "    \n",
    "print(\"2014,2015,2016,2017\")\n",
    "print(\"-\"*20)\n",
    "print(\"아파트 연립다세대, 단독주택, 노상, 상점, 숙박업소목욕탕,유흥접객업소,사무실,역대합실,교통수단,유원지,학교, 금융기관,기타\")\n",
    "\n",
    "a = input(\"년도: \")\n",
    "if a == \"2014\":\n",
    "    print (\"총\",\":\",fileMatrix4[1][2])\n",
    "    for i in range(3,16):\n",
    "        print (fileMatrix4[0][i],\":\",fileMatrix4[1][i])\n",
    "if a == \"2015\":\n",
    "    print (\"총\",\":\",fileMatrix4[7][2])\n",
    "    for i in range(3,16):\n",
    "        print (fileMatrix4[0][i],\":\",fileMatrix4[7][i])\n",
    "if a == \"2016\":\n",
    "    print (\"총\",\":\",fileMatrix4[13][2])\n",
    "    for i in range(3,16):\n",
    "        print (fileMatrix4[0][i],\":\",fileMatrix4[13][i])\n",
    "if a == \"2017\":\n",
    "    print (\"총\",\":\",fileMatrix4[19][2])\n",
    "    for i in range(3,16):\n",
    "        print (fileMatrix4[0][i],\":\",fileMatrix4[19][i])\n"
   ]
  },
  {
   "cell_type": "markdown",
   "metadata": {},
   "source": [
    "# (5) 분석 결과 도출"
   ]
  },
  {
   "cell_type": "markdown",
   "metadata": {},
   "source": [
    "### 년도별로 CCTV 설치 갯수와 범죄 발생 현황, 검거성공률 비교 (2014 - 2017)"
   ]
  },
  {
   "cell_type": "markdown",
   "metadata": {},
   "source": [
    "#### 실행하여 확인 가능"
   ]
  },
  {
   "cell_type": "code",
   "execution_count": 1,
   "metadata": {},
   "outputs": [
    {
     "name": "stdout",
     "output_type": "stream",
     "text": [
      "**자치구**\n",
      "강남구,강동구,강북구,강서구,관악구,광진구,구로구,금천구,노원구,도봉구,동대문구,동작구,마포구,서대문구,서초구,성동구,성북구,송파구,양천구,영등포구,용산구,은평구,종로구,중구,중랑구,(중에서 입력)\n",
      "------------------------------\n",
      "**년도**\n",
      "2013도 이전,2014,2015,2016,(중에서 입력)\n",
      "------------------------------\n",
      "**년도별 CCTV 설치 갯수**\n",
      "자치구: 강남구\n",
      "소계 : 3238\n",
      "2013년 이전 : 1292\n",
      "2014년 : 430\n",
      "2015년 : 584\n",
      "2016년 : 932\n",
      "------------------------------\n",
      "**년도별 범죄 발생 건수와 검거 횟수**\n",
      "자치구: 강북구\n",
      "2014년 발생 건수 : 4030 \n",
      "       검거 횟수 : 2806 \n",
      "       검거 성공률 : 69.63 %\n",
      "2015년 발생 건수 : 4257 \n",
      "       검거 횟수 : 3113 \n",
      "       검거 성공률 : 73.13 %\n",
      "2016년 발생 건수 : 4229 \n",
      "       검거 횟수 : 3323 \n",
      "       검거 성공률 : 78.58 %\n",
      "2017년 발생 건수 : 3393 \n",
      "       검거 횟수 : 2824 \n",
      "       검거 성공률 : 83.23 %\n",
      "------------------------------\n",
      "Y1_axis : CCTV 설치 개수\n",
      "Y2_axis : 범죄 발생 건수\n",
      "Y3_axis : 범죄 검거 횟수\n"
     ]
    },
    {
     "data": {
      "image/png": "[encoded data removed]",
      "text/plain": [
       "<Figure size 432x288 with 1 Axes>"
      ]
     },
     "metadata": {
      "needs_background": "light"
     },
     "output_type": "display_data"
    }
   ],
   "source": [
    "fileMatrix1 = []\n",
    "\n",
    "file = open('서울시 자치구 년도별 CCTV 설치 현황.csv', 'r',encoding='UTF8')\n",
    "\n",
    "lineContent = file.readline()\n",
    "\n",
    "while lineContent != '':\n",
    "    fileMatrix1.append(lineContent.strip('\\n').split(','))\n",
    "    lineContent = file.readline()\n",
    "    \n",
    "for j in range(0,len(fileMatrix1)):\n",
    "    for k in range(0,6):\n",
    "        fileMatrix1[j][k] = fileMatrix1[j][k].replace('\"', '')\n",
    "        fileMatrix1[0][k] = fileMatrix1[0][k].replace('년','')\n",
    "        \n",
    "print (\"**자치구**\")\n",
    "for j in range(1,len(fileMatrix1)):\n",
    "    print(fileMatrix1[j][0],end = ',')\n",
    "print(\"(중에서 입력)\")\n",
    "\n",
    "print(\"-\"*30)\n",
    "\n",
    "print(\"**년도**\")\n",
    "for y in range(2,6):\n",
    "    print(fileMatrix1[0][y],end = ',')\n",
    "print(\"(중에서 입력)\")\n",
    "    \n",
    "print(\"-\"*30)\n",
    "\n",
    "    \n",
    "# CCTV 설치 갯수조사하기\n",
    "\n",
    "Y1_axis = []\n",
    "Y2_axis = []\n",
    "Y3_axis = []\n",
    "\n",
    "print(\"**년도별 CCTV 설치 갯수**\")\n",
    "a = input(\"자치구: \")\n",
    "for i in range(1,len(fileMatrix1)):\n",
    "    if a == fileMatrix1[i][0]:\n",
    "        print (\"소계\",\":\",fileMatrix1[i][1])\n",
    "        print (\"2013년 이전\",\":\",fileMatrix1[i][2])\n",
    "        print (\"2014년\",\":\",fileMatrix1[i][3])\n",
    "        print (\"2015년\",\":\",fileMatrix1[i][4])\n",
    "        print (\"2016년\",\":\",fileMatrix1[i][5])\n",
    "        Y1_axis.append(int(fileMatrix1[i][3]))\n",
    "        Y1_axis.append(int(fileMatrix1[i][4]))\n",
    "        Y1_axis.append(int(fileMatrix1[i][5]))\n",
    "        \n",
    "        \n",
    "##\n",
    "        \n",
    "fileMatrix3 = []\n",
    "\n",
    "file = open('서울시_범죄현황_20142017.csv', 'r')\n",
    "\n",
    "lineContent = file.readline()\n",
    "\n",
    "while lineContent != '':\n",
    "    fileMatrix3.append(lineContent.strip('\\n').split(','))\n",
    "    lineContent = file.readline()\n",
    "\n",
    "\n",
    "print(\"-\"*30)\n",
    "\n",
    "#범죄 발생 건수와 검거횟수 조사하기\n",
    "\n",
    "print(\"**년도별 범죄 발생 건수와 검거 횟수**\")\n",
    "\n",
    "a = input(\"자치구: \")\n",
    "for i in range(3,29):\n",
    "    if a == fileMatrix3[i][1]:\n",
    "        print (\"2014년 발생 건수\",\":\",fileMatrix3[i][2])\n",
    "        print (\"       검거 횟수\",\":\",fileMatrix3[i][3])\n",
    "        print (\"       검거 성공률 :\",\"%0.2f\" % (int(fileMatrix3[i][3])/int(fileMatrix3[i][2])*100),\"%\")\n",
    "        Y2_axis.append(int(fileMatrix3[i][2]))\n",
    "        Y3_axis.append(int(fileMatrix3[i][3]))\n",
    "for i in range(29,55):\n",
    "    if a == fileMatrix3[i][1]:\n",
    "        print (\"2015년 발생 건수\",\":\",fileMatrix3[i][2])\n",
    "        print (\"       검거 횟수\",\":\",fileMatrix3[i][3])\n",
    "        print (\"       검거 성공률 :\",\"%0.2f\" % (int(fileMatrix3[i][3])/int(fileMatrix3[i][2])*100),\"%\")\n",
    "        Y2_axis.append(int(fileMatrix3[i][2]))\n",
    "        Y3_axis.append(int(fileMatrix3[i][3]))\n",
    "for i in range(55,81):\n",
    "    if a == fileMatrix3[i][1]:\n",
    "        print (\"2016년 발생 건수\",\":\",fileMatrix3[i][2])\n",
    "        print (\"       검거 횟수\",\":\",fileMatrix3[i][3])\n",
    "        print (\"       검거 성공률 :\",\"%0.2f\" % (int(fileMatrix3[i][3])/int(fileMatrix3[i][2])*100),\"%\")\n",
    "        Y2_axis.append(int(fileMatrix3[i][2]))\n",
    "        Y3_axis.append(int(fileMatrix3[i][3]))\n",
    "for i in range(81,len(fileMatrix3)):\n",
    "    if a == fileMatrix3[i][1]:\n",
    "        print (\"2017년 발생 건수\",\":\",fileMatrix3[i][2])\n",
    "        print (\"       검거 횟수\",\":\",fileMatrix3[i][3])\n",
    "        print (\"       검거 성공률 :\",\"%0.2f\" % (int(fileMatrix3[i][3])/int(fileMatrix3[i][2])*100),\"%\")\n",
    "                     \n",
    "        \n",
    "# Multi Line Chart 를 통해 세가지항목 시각적으로 비교하기                \n",
    "\n",
    "print('-'*30)\n",
    "print(\"Y1_axis : CCTV 설치 개수\")\n",
    "print(\"Y2_axis : 범죄 발생 건수\")\n",
    "print(\"Y3_axis : 범죄 검거 횟수\")\n",
    "\n",
    "%matplotlib inline\n",
    "from matplotlib import pyplot as plt\n",
    "\n",
    "X_axis = [2014, 2015, 2016]\n",
    "\n",
    "\n",
    "xs = [i for i, _ in enumerate(Y1_axis)]\n",
    "\n",
    "plt.plot(xs, Y1_axis, 'r-', label=\"Y1_axis\")\n",
    "plt.plot(xs, Y2_axis, 'g-', label=\"Y2_axis\")\n",
    "plt.plot(xs, Y3_axis, 'b-', label=\"Y3_axis\")\n",
    "\n",
    "plt.legend(loc=9)\n",
    "\n",
    "plt.title(\"Multi Line Chart\")\n",
    "plt.xlabel('X axis')\n",
    "plt.ylabel('Y axis')\n",
    "\n",
    "plt.show()"
   ]
  },
  {
   "cell_type": "markdown",
   "metadata": {},
   "source": [
    "서울특별시에 존재하는 모든 자치구(25개)를 입력하여 년도별(2014,2015,2016년) CCTV 설치개수와, 범죄 발생 건수, 범죄 검거 횟수를 비교하였다.<br>\n",
    "Multi Line Chart 로 나타낸 결과 대부분의 자치구에서 CCTV 설치 개수가 늘어날수록 범죄 발생 건수가 줄어듬과 동시에 검거성공률이 높아짐을 확인할 수 있었다.<br>\n",
    "검거성공률이 증가함은 모든 자치구에서 확인가능했다.(가설 성립)**(그래프에서 Y2_axis와 Y3_axis의 폭 비교)**<br>\n",
    "그러나 몇몇 자치구에서는 가설과는 다른 결과를 확인하였다.(아래 기록 참조)"
   ]
  },
  {
   "cell_type": "markdown",
   "metadata": {},
   "source": [
    "**기록노트**<br>\n",
    "강북구 : CCTV 설치 갯수 늘어남, 범죄 늘어남 그러나 검거성공 높음<br>\n",
    "강서구 : 갯수 줄어들었지만 검거성공률 증가<br>\n",
    "동대문구 : 갯수가 늘면서 검거성공률은 증가했지만 범죄율 증가<br>\n",
    "용산구 : 설치갯수 늘었지만 범죄발생률 증가, 검거 성공률은 증가<br>\n"
   ]
  },
  {
   "cell_type": "markdown",
   "metadata": {},
   "source": [
    "-> 범죄를 예방하기 위해서는 CCTV외에도 다른 요인이 필요하다는 것<br>\n",
    "-> 그러나 검거 성공률 증가에는 CCTV가 기여했다고 볼 수 있음"
   ]
  },
  {
   "cell_type": "markdown",
   "metadata": {},
   "source": [
    "### 방범용으로 설치된 CCTV 갯수 파악하기"
   ]
  },
  {
   "cell_type": "markdown",
   "metadata": {},
   "source": [
    "####  방범용 CCTV 갯수를 조사하고, 비율 확인하기"
   ]
  },
  {
   "cell_type": "code",
   "execution_count": null,
   "metadata": {},
   "outputs": [
    {
     "name": "stdout",
     "output_type": "stream",
     "text": [
      "자치구: 강남구\n",
      "전체 CCTV :  3238\n",
      "방범용 CCTV :  2076\n",
      "비율 :  64.11 %\n",
      "-----\n"
     ]
    }
   ],
   "source": [
    "fileMatrix2 = []\n",
    "\n",
    "file = open('서울시 자치구 목적별 CCTV 설치 현황.csv', 'r',encoding='UTF8')\n",
    "\n",
    "lineContent = file.readline()\n",
    "\n",
    "while lineContent != '':\n",
    "    fileMatrix2.append(lineContent.strip('\\n').split(','))\n",
    "    lineContent = file.readline()\n",
    "    \n",
    "# 불필요한 문자 없애기\n",
    "for j in range(0,len(fileMatrix2)):\n",
    "    fileMatrix2[j][0] = fileMatrix2[j][0].replace('\"', '')\n",
    "    fileMatrix2[j][1] = fileMatrix2[j][1].replace('\"', '')\n",
    "for j in range(0,len(fileMatrix2)):\n",
    "    fileMatrix2[j][2] = fileMatrix2[j][2].replace('\"','')\n",
    "\n",
    "for i in range(1,len(fileMatrix2)):\n",
    "    a = input(\"자치구: \")\n",
    "    if a == fileMatrix2[i][0]:\n",
    "        print (\"전체 CCTV : \",fileMatrix2[i][1]) \n",
    "        print (\"방범용 CCTV : \",fileMatrix2[i][2])\n",
    "        print (\"비율 : \",\"%0.2f\" % ((int(fileMatrix2[i][2])/int(fileMatrix2[i][1]))*100),\"%\")\n",
    "        print (\"-----\")\n",
    "        continue\n",
    "    "
   ]
  },
  {
   "cell_type": "markdown",
   "metadata": {},
   "source": [
    "대부분의 자치구에 45% - 65% 정도의 비율로 방범목적 CCTV가 설치되어있다.<br>\n",
    "다른 자치구들보다 적은 비율로 설치된 **도봉구, 마포구, 송파구**를 자세히 살펴보았다.<br>\n"
   ]
  },
  {
   "cell_type": "markdown",
   "metadata": {},
   "source": [
    "#### 도봉구"
   ]
  },
  {
   "cell_type": "code",
   "execution_count": 6,
   "metadata": {},
   "outputs": [
    {
     "name": "stdout",
     "output_type": "stream",
     "text": [
      "Y1_axis : CCTV 설치 개수\n",
      "Y2_axis : 범죄 발생 건수\n",
      "Y3_axis : 범죄 검거 횟수\n"
     ]
    },
    {
     "data": {
      "image/png": "[encoded data removed]",
      "text/plain": [
       "<Figure size 432x288 with 1 Axes>"
      ]
     },
     "metadata": {
      "needs_background": "light"
     },
     "output_type": "display_data"
    },
    {
     "name": "stdout",
     "output_type": "stream",
     "text": [
      "**도봉구**\n",
      "2014년 발생 건수 : 3124\n",
      "       검거 횟수 : 1986\n",
      "       검거 성공률 : 63.57 %\n",
      "2015년 발생 건수 : 2664\n",
      "       검거 횟수 : 1900\n",
      "       검거 성공률 : 71.32 %\n",
      "2016년 발생 건수 : 2438\n",
      "       검거 횟수 : 1930\n",
      "       검거 성공률 : 79.16 %\n",
      "2017년 발생 건수 : 1999\n",
      "       검거 횟수 : 1652\n",
      "       검거 성공률 : 82.64 %\n"
     ]
    }
   ],
   "source": [
    "print(\"Y1_axis : CCTV 설치 개수\")\n",
    "print(\"Y2_axis : 범죄 발생 건수\")\n",
    "print(\"Y3_axis : 범죄 검거 횟수\")\n",
    "\n",
    "%matplotlib inline\n",
    "from matplotlib import pyplot as plt\n",
    "\n",
    "X_axis = [2014, 2015, 2016]\n",
    "Y1_axis = [159, 42, 386]\n",
    "Y2_axis = [3124, 2664, 2438]\n",
    "Y3_axis = [1986, 1900 ,1930]\n",
    "\n",
    "xs = [i for i, _ in enumerate(Y1_axis)]\n",
    "\n",
    "plt.plot(xs, Y1_axis, 'r-', label=\"Y1_axis\")\n",
    "plt.plot(xs, Y2_axis, 'g-', label=\"Y2_axis\")\n",
    "plt.plot(xs, Y3_axis, 'b-', label=\"Y3_axis\")\n",
    "\n",
    "plt.legend(loc=9)\n",
    "\n",
    "plt.title(\"Multi Line Chart\")\n",
    "plt.xlabel('X axis')\n",
    "plt.ylabel('Y axis')\n",
    "\n",
    "plt.show()\n",
    "\n",
    "print(\"**도봉구**\")\n",
    "print(\"2014년 발생 건수 : 3124\")\n",
    "print(\"       검거 횟수 : 1986\")\n",
    "print(\"       검거 성공률 : 63.57 %\")\n",
    "print(\"2015년 발생 건수 : 2664\")\n",
    "print(\"       검거 횟수 : 1900\")\n",
    "print(\"       검거 성공률 : 71.32 %\")\n",
    "print(\"2016년 발생 건수 : 2438\")\n",
    "print(\"       검거 횟수 : 1930\")\n",
    "print(\"       검거 성공률 : 79.16 %\")\n",
    "print(\"2017년 발생 건수 : 1999\")\n",
    "print(\"       검거 횟수 : 1652\")\n",
    "print(\"       검거 성공률 : 82.64 %\")"
   ]
  },
  {
   "cell_type": "markdown",
   "metadata": {},
   "source": [
    "전체 CCTV갯수에 비해 방범용 CCTV의 갯수는 적지만, 설치수가 늘어갈수록 범죄발생률이 줄어들었고 검거성공률도 증가함을 확인할 수 있다."
   ]
  },
  {
   "cell_type": "markdown",
   "metadata": {},
   "source": [
    "#### 마포구"
   ]
  },
  {
   "cell_type": "code",
   "execution_count": 7,
   "metadata": {},
   "outputs": [
    {
     "name": "stdout",
     "output_type": "stream",
     "text": [
      "Y1_axis : CCTV 설치 개수\n",
      "Y2_axis : 범죄 발생 건수\n",
      "Y3_axis : 범죄 검거 횟수\n"
     ]
    },
    {
     "data": {
      "image/png": "[encoded data removed]",
      "text/plain": [
       "<Figure size 432x288 with 1 Axes>"
      ]
     },
     "metadata": {
      "needs_background": "light"
     },
     "output_type": "display_data"
    },
    {
     "name": "stdout",
     "output_type": "stream",
     "text": [
      "**마포구**\n",
      "2014년 발생 건수 : 5740\n",
      "       검거 횟수 : 3136\n",
      "       검거 성공률 :  54.63 %\n",
      "2015년 발생 건수 : 5854\n",
      "       검거 횟수 : 3597\n",
      "       검거 성공률 :  61.45 %\n",
      "2016년 발생 건수 : 5873\n",
      "       검거 횟수 : 3771 \n",
      "       검거 성공률 :  64.21 %\n",
      "2017년 발생 건수 : 5278 \n",
      "       검거 횟수 : 3499\n",
      "       검거 성공률 :  66.29 %\n"
     ]
    }
   ],
   "source": [
    "print(\"Y1_axis : CCTV 설치 개수\")\n",
    "print(\"Y2_axis : 범죄 발생 건수\")\n",
    "print(\"Y3_axis : 범죄 검거 횟수\")\n",
    "오케 10점ㅎㅎ\n",
    "%matplotlib inline\n",
    "from matplotlib import pyplot as plt\n",
    "\n",
    "X_axis = [2014, 2015, 2016]\n",
    "Y1_axis = [118, 169, 379]\n",
    "Y2_axis = [5740, 5854, 5873]\n",
    "Y3_axis = [3136, 3597, 3771]\n",
    "아 내가한거 보여줄까 그럼 너거 되게 이뻐보일걸 볼래요\n",
    "xs = [i for i, _ in enumerate(Y1_axis)]\n",
    "\n",
    "plt.plot(xs, Y1_axis, 'r-', label=\"Y1_axis\")\n",
    "plt.plot(xs, Y2_axis, 'g-', label=\"Y2_axis\")\n",
    "plt.plot(xs, Y3_axis, 'b-', label=\"Y3_axis\")\n",
    "\n",
    "plt.legend(loc=9)\n",
    "\n",
    "plt.title(\"Multi Line Chart\")\n",
    "plt.xlabel('X axis')\n",
    "plt.ylabel('Y axis')\n",
    "\n",
    "plt.show()\n",
    "\n",
    "print(\"**마포구**\")\n",
    "print(\"2014년 발생 건수 : 5740\")\n",
    "print(\"       검거 횟수 : 3136\")\n",
    "print(\"       검거 성공률 :  54.63 %\")\n",
    "print(\"2015년 발생 건수 : 5854\")\n",
    "print(\"       검거 횟수 : 3597\")\n",
    "print(\"       검거 성공률 :  61.45 %\")\n",
    "print(\"2016년 발생 건수 : 5873\")\n",
    "print(\"       검거 횟수 : 3771 \")\n",
    "print(\"       검거 성공률 :  64.21 %\")\n",
    "print(\"2017년 발생 건수 : 5278 \")\n",
    "print(\"       검거 횟수 : 3499\")\n",
    "print(\"       검거 성공률 :  66.29 %\")"
   ]
  },
  {
   "cell_type": "markdown",
   "metadata": {},
   "source": [
    "전체 CCTV갯수에 비해 방범용 CCTV의 갯수는 적지만 검거 성공률이 증가했다."
   ]
  },
  {
   "cell_type": "markdown",
   "metadata": {},
   "source": [
    "#### 송파구"
   ]
  },
  {
   "cell_type": "code",
   "execution_count": 8,
   "metadata": {},
   "outputs": [
    {
     "name": "stdout",
     "output_type": "stream",
     "text": [
      "Y1_axis : CCTV 설치 개수\n",
      "Y2_axis : 범죄 발생 건수\n",
      "Y3_axis : 범죄 검거 횟수\n"
     ]
    },
    {
     "data": {
      "image/png": "[encoded data removed]",
      "text/plain": [
       "<Figure size 432x288 with 1 Axes>"
      ]
     },
     "metadata": {
      "needs_background": "light"
     },
     "output_type": "display_data"
    },
    {
     "name": "stdout",
     "output_type": "stream",
     "text": [
      "**송파구**\n",
      "2014년 발생 건수 : 8004\n",
      "       검거 횟수 : 3982\n",
      "       검거 성공률 :  49.75 %\n",
      "2015년 발생 건수 : 6778\n",
      "       검거 횟수 : 4113\n",
      "       검거 성공률 :  60.68 %\n",
      "2016년 발생 건수 : 6090\n",
      "       검거 횟수 : 4060\n",
      "       검거 성공률 :  66.67 %\n",
      "2017년 발생 건수 : 5576\n",
      "       검거 횟수 : 3870\n",
      "       검거 성공률 :  69.40 %\n"
     ]
    }
   ],
   "source": [
    "print(\"Y1_axis : CCTV 설치 개수\")\n",
    "print(\"Y2_axis : 범죄 발생 건수\")\n",
    "print(\"Y3_axis : 범죄 검거 횟수\")\n",
    "\n",
    "%matplotlib inline\n",
    "from matplotlib import pyplot as plt\n",
    "\n",
    "X_axis = [2014, 2015, 2016]\n",
    "Y1_axis = [118, 169, 379]\n",
    "Y2_axis = [8004, 6778, 6090]\n",
    "Y3_axis = [3982, 4113, 4060]\n",
    "\n",
    "xs = [i for i, _ in enumerate(Y1_axis)]\n",
    "\n",
    "plt.plot(xs, Y1_axis, 'r-', label=\"Y1_axis\")\n",
    "plt.plot(xs, Y2_axis, 'g-', label=\"Y2_axis\")\n",
    "plt.plot(xs, Y3_axis, 'b-', label=\"Y3_axis\")\n",
    "\n",
    "plt.legend(loc=9)\n",
    "\n",
    "plt.title(\"Multi Line Chart\")\n",
    "plt.xlabel('X axis')\n",
    "plt.ylabel('Y axis')\n",
    "\n",
    "plt.show()\n",
    "\n",
    "print(\"**송파구**\")\n",
    "print(\"2014년 발생 건수 : 8004\")\n",
    "print(\"       검거 횟수 : 3982\")\n",
    "print(\"       검거 성공률 :  49.75 %\")\n",
    "print(\"2015년 발생 건수 : 6778\")\n",
    "print(\"       검거 횟수 : 4113\")\n",
    "print(\"       검거 성공률 :  60.68 %\")\n",
    "print(\"2016년 발생 건수 : 6090\")\n",
    "print(\"       검거 횟수 : 4060\")\n",
    "print(\"       검거 성공률 :  66.67 %\")\n",
    "print(\"2017년 발생 건수 : 5576\")\n",
    "print(\"       검거 횟수 : 3870\")\n",
    "print(\"       검거 성공률 :  69.40 %\")\n"
   ]
  },
  {
   "cell_type": "markdown",
   "metadata": {},
   "source": [
    "전체 CCTV갯수에 비해 방범용 CCTV의 갯수는 적지만 범죄율도 감소하였고 검거성공률 또한 증가하였다."
   ]
  },
  {
   "cell_type": "markdown",
   "metadata": {},
   "source": [
    "-> 방범용 CCTV의 갯수가 적어도 설치갯수가 증가한다면 범죄 검거 성공률이 증가하였다."
   ]
  },
  {
   "cell_type": "markdown",
   "metadata": {},
   "source": [
    "### 범죄 장소 파악하기"
   ]
  },
  {
   "cell_type": "markdown",
   "metadata": {},
   "source": [
    "#### 실행시켜 확인 가능"
   ]
  },
  {
   "cell_type": "code",
   "execution_count": 3,
   "metadata": {},
   "outputs": [
    {
     "name": "stdout",
     "output_type": "stream",
     "text": [
      "2014,2015,2016,2017 중에서 입력\n",
      "------------------------------\n",
      "장소 : 아파트 연립다세대,단독주택,노상,상점,숙박업소목욕탕,유흥접객업소,사무실,역대합실,교통수단,유원지,학교,금융기관,기타\n",
      "------------------------------\n",
      "**년도별 범죄 발생 장소**\n",
      "년도: 2014\n",
      "총 : 130674  건\n",
      "아파트 연립다세대 : 5671  / 4.34 %\n",
      "단독주택 : 7325  / 5.61 %\n",
      "노상 : 39067  / 29.90 %\n",
      "상점 : 5068  / 3.88 %\n",
      "숙박업소목욕탕 : 2320  / 1.78 %\n",
      "유흥접객업소 : 5993  / 4.59 %\n",
      "사무실 : 2940  / 2.25 %\n",
      "역대합실 : 874  / 0.67 %\n",
      "교통수단 : 2079  / 1.59 %\n",
      "유원지 : 1057  / 0.81 %\n",
      "학교 : 679  / 0.52 %\n",
      "금융기관 : 1530  / 1.17 %\n",
      "기타 : 56071  / 42.91 %\n",
      "--------------------------------------------------\n",
      "Pie Chart를 통해 상위 4곳을 비교\n",
      "**2014년**\n"
     ]
    },
    {
     "data": {
      "image/png": "[encoded data removed]",
      "text/plain": [
       "<Figure size 432x288 with 1 Axes>"
      ]
     },
     "metadata": {},
     "output_type": "display_data"
    }
   ],
   "source": [
    "import matplotlib.pyplot as plt\n",
    "\n",
    "from matplotlib import font_manager, rc\n",
    "font_name = font_manager.FontProperties(fname=\"c:/Windows/Fonts/malgun.ttf\").get_name()\n",
    "rc('font', family=font_name)\n",
    "\n",
    "fileMatrix4 = []\n",
    "\n",
    "file = open('서울시_범죄장소_20142017.csv', 'r')\n",
    "\n",
    "lineContent = file.readline()\n",
    "\n",
    "while lineContent != '':\n",
    "    fileMatrix4.append(lineContent.strip('\\n').split(','))\n",
    "    lineContent = file.readline()\n",
    "\n",
    "print(\"2014,2015,2016,2017 중에서 입력\")\n",
    "print(\"-\"*30)\n",
    "print(\"장소 : 아파트 연립다세대,단독주택,노상,상점,숙박업소목욕탕,유흥접객업소,사무실,역대합실,교통수단,유원지,학교,금융기관,기타\")\n",
    "print(\"-\"*30)\n",
    "print(\"**년도별 범죄 발생 장소**\")\n",
    "sizes = []\n",
    "a = input(\"년도: \")\n",
    "if a == \"2014\":\n",
    "    sizes.append(fileMatrix4[1][5])\n",
    "    sizes.append(fileMatrix4[1][3])\n",
    "    sizes.append(fileMatrix4[1][4])\n",
    "    sizes.append(fileMatrix4[1][8])\n",
    "    print (\"총\",\":\",fileMatrix4[1][2],\"건\")\n",
    "    for i in range(3,16):\n",
    "        print (fileMatrix4[0][i],\":\",fileMatrix4[1][i],\"/\",\"%0.2f\" % (int(fileMatrix4[1][i])/int(fileMatrix4[1][2])*100),\"%\")\n",
    "        continue\n",
    "if a == \"2015\":\n",
    "    sizes.append(fileMatrix4[7][5])\n",
    "    sizes.append(fileMatrix4[7][3])\n",
    "    sizes.append(fileMatrix4[7][4])\n",
    "    sizes.append(fileMatrix4[7][8])\n",
    "    print (\"총\",\":\",fileMatrix4[7][2],\"건\")\n",
    "    for i in range(3,16):\n",
    "        print (fileMatrix4[0][i],\":\",fileMatrix4[7][i],\"/\",\"%0.2f\" % (int(fileMatrix4[7][i])/int(fileMatrix4[7][2])*100),\"%\")\n",
    "        continue\n",
    "if a == \"2016\":\n",
    "    sizes.append(fileMatrix4[13][5])\n",
    "    sizes.append(fileMatrix4[13][3])\n",
    "    sizes.append(fileMatrix4[13][4])\n",
    "    sizes.append(fileMatrix4[13][8])\n",
    "    print (\"총\",\":\",fileMatrix4[13][2],\"건\")\n",
    "    for i in range(3,16):\n",
    "        print (fileMatrix4[0][i],\":\",fileMatrix4[13][i],\"/\",\"%0.2f\" % (int(fileMatrix4[13][i])/int(fileMatrix4[13][2])*100),\"%\")\n",
    "        continue\n",
    "if a == \"2017\":\n",
    "    sizes.append(fileMatrix4[19][5])\n",
    "    sizes.append(fileMatrix4[19][3])\n",
    "    sizes.append(fileMatrix4[19][4])\n",
    "    sizes.append(fileMatrix4[19][8])\n",
    "    print (\"총\",\":\",fileMatrix4[19][2],\"건\")\n",
    "    for i in range(3,16):\n",
    "        print (fileMatrix4[0][i],\":\",fileMatrix4[19][i],\"/\",\"%0.2f\" % (int(fileMatrix4[19][i])/int(fileMatrix4[19][2])*100),\"%\")\n",
    "        continue\n",
    "        \n",
    "# Pie Chart 를 통해 범죄가 많이 일어나는 장소 파악하기 (상위4곳)       \n",
    "\n",
    "print(\"-\"*50)\n",
    "print(\"Pie Chart를 통해 상위 4곳을 비교\")\n",
    "if a == \"2014\":\n",
    "    print(\"**2014년**\")\n",
    "if a == \"2015\":\n",
    "    print(\"**2015년**\")\n",
    "if a == \"2016\":\n",
    "    print(\"**2016년**\")\n",
    "if a == \"2017\":\n",
    "    print(\"**2017년**\")\n",
    "    \n",
    "%matplotlib inline\n",
    "import matplotlib.pyplot as plt\n",
    "\n",
    "labels = '노상', '아파트', '단독주택', '유흥접객업소'\n",
    "explode = (0, 0, 0, 0)\n",
    "\n",
    "fig1, ax1 = plt.subplots()\n",
    "ax1.pie(sizes, explode=explode, labels=labels, autopct='%1.1f%%',\n",
    "        shadow=True, startangle=90)\n",
    "ax1.axis('equal')\n",
    "\n",
    "\n",
    "plt.show()"
   ]
  },
  {
   "cell_type": "markdown",
   "metadata": {},
   "source": [
    "분석 결과 노상(길거리)에서 발생한 범죄가 가장 많았고, 그 뒤로 단독주택, 유흥접객업소, 아파트 연립다세대 순으로 범죄가 많이 발생하였다.<br>\n",
    "따라서 노상의 CCTV를 사각지대가 없는 방향으로 늘려야하며 또한 단독주택, 유흥접객업소, 아파트 연립다세대에 더 많은 CCTV를 설치한다면 범죄를 예방할 수 있을 것이다."
   ]
  },
  {
   "cell_type": "markdown",
   "metadata": {},
   "source": [
    "## Term Project 결과보고"
   ]
  },
  {
   "cell_type": "markdown",
   "metadata": {},
   "source": [
    "### 처음 설정한 가설\n",
    "- CCTV 설치갯수가 늘어갈수록 범죄율이 낮아질 것이며 특히, 검거성공률을 높일 것이다.\n",
    "\n",
    "### 결론\n",
    "- 1. CCTV의 설치갯수가 증가함에 따라 대부분의 자치구 범죄율이 감소하였다.\n",
    "- 2. CCTV의 설치갯수가 증가함에 따라 대부분의 자치구 범죄 검거 성공률이 증가하였다.\n",
    "- 3. 가설과 일치하지 않는, 즉 범죄율이 증가하는 자치구도 확인되어, 범죄예방에는 CCTV만이 기여하는 것은 아니다.\n",
    "- 4. 총 CCTV에 비해 방범용 CCTV가 적은 자치구라고 범죄율이 증가하거나 검거성공률이 감소하지 않는 것으로 보아 방범용 CCTV의 비율은 범죄예방과 무관하다 볼 수 있다.\n",
    "- 5. 범죄가 발생하는 장소를 분석한 결과 노상, 단독주택, 유흥접객업소, 아파트 연립다세대 순으로 많이 발생하였으며, 이 장소에 CCTV 갯수를 늘린다면 더 큰 예방효과를 기대할 수 있을 것이다."
   ]
  },
  {
   "cell_type": "markdown",
   "metadata": {},
   "source": [
    "## (8) 별첨1: (3)의 획득한 데이터 원본"
   ]
  },
  {
   "cell_type": "markdown",
   "metadata": {},
   "source": [
    "### 서울시 자치구 년도별 CCTV 설치 현황"
   ]
  },
  {
   "cell_type": "code",
   "execution_count": 13,
   "metadata": {},
   "outputs": [
    {
     "name": "stdout",
     "output_type": "stream",
     "text": [
      "﻿\"기관명\",\"소계\",\"2013년도 이전\",\"2014년\",\"2015년\",\"2016년\"\n",
      "\"강남구\",\"3238\",\"1292\",\"430\",\"584\",\"932\"\n",
      "\"강동구\",\"1010\",\"379\",\"99\",\"155\",\"377\"\n",
      "\"강북구\",\"831\",\"369\",\"120\",\"138\",\"204\"\n",
      "\"강서구\",\"911\",\"388\",\"258\",\"184\",\"81\"\n",
      "\"관악구\",\"2109\",\"846\",\"260\",\"390\",\"613\"\n",
      "\"광진구\",\"878\",\"573\",\"78\",\"53\",\"174\"\n",
      "\"구로구\",\"1884\",\"1142\",\"173\",\"246\",\"323\"\n",
      "\"금천구\",\"1348\",\"674\",\"51\",\"269\",\"354\"\n",
      "\"노원구\",\"1566\",\"542\",\"57\",\"451\",\"516\"\n",
      "\"도봉구\",\"825\",\"238\",\"159\",\"42\",\"386\"\n",
      "\"동대문구\",\"1870\",\"1070\",\"23\",\"198\",\"579\"\n",
      "\"동작구\",\"1302\",\"544\",\"341\",\"103\",\"314\"\n",
      "\"마포구\",\"980\",\"314\",\"118\",\"169\",\"379\"\n",
      "\"서대문구\",\"1254\",\"844\",\"50\",\"68\",\"292\"\n",
      "\"서초구\",\"2297\",\"1406\",\"157\",\"336\",\"398\"\n",
      "\"성동구\",\"1327\",\"730\",\"91\",\"241\",\"265\"\n",
      "\"성북구\",\"1651\",\"1009\",\"78\",\"360\",\"204\"\n",
      "\"송파구\",\"1081\",\"529\",\"21\",\"68\",\"463\"\n",
      "\"양천구\",\"2482\",\"1843\",\"142\",\"30\",\"467\"\n",
      "\"영등포구\",\"1277\",\"495\",\"214\",\"195\",\"373\"\n",
      "\"용산구\",\"2096\",\"1368\",\"218\",\"112\",\"398\"\n",
      "\"은평구\",\"2108\",\"1138\",\"224\",\"278\",\"468\"\n",
      "\"종로구\",\"1619\",\"464\",\"314\",\"211\",\"630\"\n",
      "\"중구\",\"1023\",\"413\",\"190\",\"72\",\"348\"\n",
      "\"중랑구\",\"916\",\"509\",\"121\",\"177\",\"109\"\n"
     ]
    }
   ],
   "source": [
    "with open('서울시 자치구 년도별 CCTV 설치 현황.csv', 'r',encoding='UTF8') as file:\n",
    "    contents = file.read()\n",
    "\n",
    "print(contents)"
   ]
  },
  {
   "cell_type": "markdown",
   "metadata": {},
   "source": [
    "### 서울시 자치구 목적별 CCTV 설치 현황"
   ]
  },
  {
   "cell_type": "code",
   "execution_count": 14,
   "metadata": {},
   "outputs": [
    {
     "name": "stdout",
     "output_type": "stream",
     "text": [
      "﻿\"기관명\",\"소계\",\"방범용\",\"도시공원, 놀이터\",\"어린이 보호\",\"쓰레기 무단투기\",\"기타\"\n",
      "\"강남구\",\"3238\",\"2076\",\"261\",\"443\",\"0\",\"458\"\n",
      "\"강동구\",\"1010\",\"537\",\"84\",\"125\",\"27\",\"237\"\n",
      "\"강북구\",\"831\",\"469\",\"86\",\"108\",\"85\",\"83\"\n",
      "\"강서구\",\"911\",\"623\",\"51\",\"182\",\"28\",\"27\"\n",
      "\"관악구\",\"2109\",\"1083\",\"161\",\"195\",\"57\",\"613\"\n",
      "\"광진구\",\"878\",\"376\",\"51\",\"208\",\"72\",\"171\"\n",
      "\"구로구\",\"1884\",\"823\",\"294\",\"415\",\"29\",\"323\"\n",
      "\"금천구\",\"1348\",\"676\",\"119\",\"188\",\"32\",\"333\"\n",
      "\"노원구\",\"1566\",\"753\",\"192\",\"205\",\"115\",\"301\"\n",
      "\"도봉구\",\"825\",\"260\",\"89\",\"89\",\"47\",\"340\"\n",
      "\"동대문구\",\"1870\",\"948\",\"71\",\"247\",\"28\",\"576\"\n",
      "\"동작구\",\"1302\",\"693\",\"88\",\"291\",\"19\",\"211\"\n",
      "\"마포구\",\"980\",\"387\",\"86\",\"101\",\"0\",\"406\"\n",
      "\"서대문구\",\"1254\",\"603\",\"230\",\"129\",\"0\",\"292\"\n",
      "\"서초구\",\"2297\",\"1552\",\"62\",\"316\",\"0\",\"367\"\n",
      "\"성동구\",\"1327\",\"663\",\"56\",\"305\",\"38\",\"265\"\n",
      "\"성북구\",\"1651\",\"974\",\"72\",\"320\",\"98\",\"187\"\n",
      "\"송파구\",\"1081\",\"331\",\"139\",\"129\",\"19\",\"463\"\n",
      "\"양천구\",\"2482\",\"1216\",\"77\",\"722\",\"19\",\"448\"\n",
      "\"영등포구\",\"1277\",\"653\",\"91\",\"122\",\"38\",\"373\"\n",
      "\"용산구\",\"2096\",\"1336\",\"113\",\"168\",\"7\",\"472\"\n",
      "\"은평구\",\"2108\",\"1147\",\"196\",\"527\",\"3\",\"235\"\n",
      "\"종로구\",\"1619\",\"891\",\"73\",\"38\",\"0\",\"617\"\n",
      "\"중구\",\"1023\",\"495\",\"96\",\"20\",\"60\",\"352\"\n",
      "\"중랑구\",\"916\",\"532\",\"74\",\"54\",\"0\",\"256\"\n"
     ]
    }
   ],
   "source": [
    "with open('서울시 자치구 목적별 CCTV 설치 현황.csv', 'r',encoding='UTF8') as file:\n",
    "    contents = file.read()\n",
    "\n",
    "print(contents)"
   ]
  },
  {
   "cell_type": "markdown",
   "metadata": {},
   "source": [
    "### 서울시 5대 범죄 현황 (2014 - 2017)"
   ]
  },
  {
   "cell_type": "code",
   "execution_count": 6,
   "metadata": {},
   "outputs": [
    {
     "name": "stdout",
     "output_type": "stream",
     "text": [
      "기간,자치구,합계,합계,살인,살인,강도,강도,강간강제추행,강간강제추행,절도,절도,폭력,폭력\n",
      "기간,자치구,발생,검거,발생,검거,발생,검거,발생,검거,발생,검거,발생,검거\n",
      "2014,합계,130674 ,79061 ,158,152,343,299,\"5,462\",\"4,957\",\"59,393\",\"19,120\",\"65,318\",\"54,533\"\n",
      "2014,종로구,5021 ,4610 ,3,7,12,15,226,948,\"2,272\",\"1,281\",\"2,508\",\"2,359\"\n",
      "2014,중구,5231 ,3188 ,6,5,13,13,221,161,\"2,576\",887,\"2,415\",\"2,122\"\n",
      "2014,용산구,3799 ,2340 ,1,2,7,7,213,169,\"1,560\",522,\"2,018\",\"1,640\"\n",
      "2014,성동구,3582 ,2048 ,1,1,5,6,141,103,\"1,753\",529,\"1,682\",\"1,409\"\n",
      "2014,광진구,6268 ,3531 ,8,9,16,22,249,199,\"3,167\",\"1,001\",\"2,828\",\"2,300\"\n",
      "2014,동대문구,4363 ,2882 ,12,11,13,8,141,112,\"1,809\",676,\"2,388\",\"2,075\"\n",
      "2014,중랑구,5353 ,3259 ,11,10,14,11,163,118,\"2,390\",823,\"2,775\",\"2,297\"\n",
      "2014,성북구,4606 ,3028 ,8,5,16,20,165,128,\"2,130\",935,\"2,287\",\"1,940\"\n",
      "2014,강북구,4030 ,2806 ,6,5,21,10,189,152,\"1,494\",575,\"2,320\",\"2,064\"\n",
      "2014,도봉구,3124 ,1986 ,6,7,11,15,172,159,\"1,350\",478,\"1,585\",\"1,327\"\n",
      "2014,노원구,5312 ,3300 ,5,4,8,7,173,136,\"2,404\",803,\"2,722\",\"2,350\"\n",
      "2014,은평구,5431 ,3325 ,5,3,24,21,188,158,\"2,352\",798,\"2,862\",\"2,345\"\n",
      "2014,서대문구,4194 ,2588 ,3,3,4,7,185,150,\"1,883\",665,\"2,119\",\"1,763\"\n",
      "2014,마포구,5740 ,3136 ,4,4,22,9,265,218,\"2,763\",742,\"2,686\",\"2,163\"\n",
      "2014,양천구,4642 ,2654 ,5,5,11,10,129,96,\"2,058\",630,\"2,439\",\"1,913\"\n",
      "2014,강서구,5289 ,3225 ,8,6,9,9,214,179,\"2,341\",734,\"2,717\",\"2,297\"\n",
      "2014,구로구,5389 ,2985 ,3,3,14,10,252,186,\"2,377\",579,\"2,743\",\"2,207\"\n",
      "2014,금천구,3842 ,2434 ,7,7,9,6,162,133,\"1,552\",496,\"2,112\",\"1,792\"\n",
      "2014,영등포구,7003 ,4072 ,14,15,10,5,250,183,\"3,080\",892,\"3,649\",\"2,977\"\n",
      "2014,동작구,3869 ,2312 ,2,2,9,7,203,120,\"1,787\",603,\"1,868\",\"1,580\"\n",
      "2014,관악구,6781 ,3701 ,7,8,25,22,361,238,\"3,029\",784,\"3,359\",\"2,649\"\n",
      "2014,서초구,5558 ,3122 ,6,9,14,12,285,184,\"2,747\",782,\"2,506\",\"2,135\"\n",
      "2014,강남구,8851 ,5262 ,13,9,37,29,512,403,\"3,895\",\"1,193\",\"4,394\",\"3,628\"\n",
      "2014,송파구,8004 ,3982 ,9,8,9,10,255,195,\"4,199\",885,\"3,532\",\"2,884\"\n",
      "2014,강동구,5392 ,3285 ,5,4,10,8,148,129,\"2,425\",827,\"2,804\",\"2,317\"\n",
      "2015,합계,126401 ,82680 ,163,156,276,257,\"5,449\",\"5,069\",\"55,307\",\"21,842\",\"65,206\",\"55,356\"\n",
      "2015,종로구,4705 ,4430 ,6,8,11,13,211,\"1,139\",\"2,184\",\"1,145\",\"2,293\",\"2,125\"\n",
      "2015,중구,4954 ,2942 ,3,2,9,6,170,111,\"2,548\",859,\"2,224\",\"1,964\"\n",
      "2015,용산구,3820 ,2483 ,5,5,14,14,194,173,\"1,557\",587,\"2,050\",\"1,704\"\n",
      "2015,성동구,3358 ,2123 ,4,4,9,8,126,119,\"1,607\",597,\"1,612\",\"1,395\"\n",
      "2015,광진구,5909 ,3707 ,4,4,14,26,240,220,\"3,026\",\"1,277\",\"2,625\",\"2,180\"\n",
      "2015,동대문구,4720 ,3205 ,5,5,13,13,173,146,\"1,981\",814,\"2,548\",\"2,227\"\n",
      "2015,중랑구,5193 ,3405 ,13,12,11,9,187,148,\"2,135\",829,\"2,847\",\"2,407\"\n",
      "2015,성북구,4154 ,2729 ,5,5,5,4,150,124,\"1,785\",741,\"2,209\",\"1,855\"\n",
      "2015,강북구,4257 ,3113 ,7,8,14,13,153,126,\"1,434\",618,\"2,649\",\"2,348\"\n",
      "2015,도봉구,2664 ,1900 ,3,3,9,10,102,106,\"1,063\",478,\"1,487\",\"1,303\"\n",
      "2015,노원구,5130 ,3268 ,10,10,7,7,197,121,\"2,193\",801,\"2,723\",\"2,329\"\n",
      "2015,은평구,4745 ,3167 ,3,3,9,6,166,141,\"1,914\",711,\"2,653\",\"2,306\"\n",
      "2015,서대문구,4029 ,2579 ,2,2,5,4,154,124,\"1,812\",738,\"2,056\",\"1,711\"\n",
      "2015,마포구,5854 ,3597 ,8,8,14,10,294,247,\"2,555\",813,\"2,983\",\"2,519\"\n",
      "2015,양천구,4528 ,2815 ,3,5,6,3,120,105,\"1,890\",672,\"2,509\",\"2,030\"\n",
      "2015,강서구,5585 ,4190 ,7,8,13,13,262,191,\"2,096\",\"1,260\",\"3,207\",\"2,718\"\n",
      "2015,구로구,5646 ,3502 ,8,6,15,11,281,164,\"2,335\",889,\"3,007\",\"2,432\"\n",
      "2015,금천구,3781 ,2796 ,3,4,6,6,151,122,\"1,567\",888,\"2,054\",\"1,776\"\n",
      "2015,영등포구,6867 ,4154 ,14,12,22,20,295,183,\"2,964\",978,\"3,572\",\"2,961\"\n",
      "2015,동작구,4074 ,2397 ,5,5,9,5,285,139,\"1,865\",661,\"1,910\",\"1,587\"\n",
      "2015,관악구,6345 ,3712 ,9,8,12,14,320,221,\"2,706\",827,\"3,298\",\"2,642\"\n",
      "2015,서초구,5444 ,3450 ,8,6,9,6,393,249,\"2,635\",\"1,091\",\"2,399\",\"2,098\"\n",
      "2015,강남구,8617 ,5732 ,13,10,21,18,449,349,\"3,850\",\"1,650\",\"4,284\",\"3,705\"\n",
      "2015,송파구,6778 ,4113 ,11,10,13,10,220,178,\"3,239\",\"1,129\",\"3,295\",\"2,786\"\n",
      "2015,강동구,5244 ,3171 ,4,3,6,8,156,123,\"2,366\",789,\"2,712\",\"2,248\"\n",
      "2016,합계,117839 ,84421 ,148,147,262,257,\"6,002\",\"5,565\",\"46,857\",\"22,566\",\"64,570\",\"55,886\"\n",
      "2016,종로구,4459 ,4298 ,6,5,12,14,238,\"1,106\",\"1,940\",\"1,020\",\"2,263\",\"2,153\"\n",
      "2016,중구,4584 ,3068 ,3,3,8,7,198,148,\"2,150\",914,\"2,225\",\"1,996\"\n",
      "2016,용산구,4137 ,2835 ,4,4,9,10,251,214,\"1,489\",599,\"2,384\",\"2,008\"\n",
      "2016,성동구,3026 ,2392 ,4,5,3,5,104,78,\"1,296\",896,\"1,619\",\"1,408\"\n",
      "2016,광진구,5322 ,3312 ,4,4,11,6,279,234,\"2,636\",\"1,057\",\"2,392\",\"2,011\"\n",
      "2016,동대문구,4787 ,3623 ,5,5,10,12,190,158,\"1,940\",\"1,071\",\"2,642\",\"2,377\"\n",
      "2016,중랑구,5041 ,3935 ,8,7,14,14,164,150,\"1,691\",\"1,052\",\"3,164\",\"2,712\"\n",
      "2016,성북구,3744 ,2672 ,4,3,8,8,154,117,\"1,470\",725,\"2,108\",\"1,819\"\n",
      "2016,강북구,4229 ,3323 ,7,6,5,4,217,159,\"1,222\",672,\"2,778\",\"2,482\"\n",
      "2016,도봉구,2438 ,1930 ,3,3,5,5,123,121,866,492,\"1,441\",\"1,309\"\n",
      "2016,노원구,4543 ,3021 ,5,6,6,9,159,142,\"1,857\",740,\"2,516\",\"2,124\"\n",
      "2016,은평구,4501 ,3353 ,6,6,9,7,156,142,\"1,666\",890,\"2,664\",\"2,308\"\n",
      "2016,서대문구,3665 ,2554 ,6,7,5,4,175,147,\"1,503\",752,\"1,976\",\"1,644\"\n",
      "2016,마포구,5873 ,3771 ,4,4,4,7,399,320,\"2,527\",940,\"2,939\",\"2,500\"\n",
      "2016,양천구,4112 ,2793 ,5,5,7,7,131,108,\"1,719\",755,\"2,250\",\"1,918\"\n",
      "2016,강서구,5450 ,4097 ,9,10,10,10,275,239,\"1,952\",\"1,070\",\"3,204\",\"2,768\"\n",
      "2016,구로구,5366 ,3744 ,9,9,10,13,273,181,\"1,910\",861,\"3,164\",\"2,680\"\n",
      "2016,금천구,3645 ,2756 ,6,6,7,7,175,143,\"1,264\",654,\"2,193\",\"1,946\"\n",
      "2016,영등포구,6322 ,4199 ,13,13,19,14,356,225,\"2,341\",940,\"3,593\",\"3,007\"\n",
      "2016,동작구,3227 ,2160 ,8,6,7,7,325,149,\"1,226\",554,\"1,661\",\"1,444\"\n",
      "2016,관악구,5678 ,3925 ,6,7,12,10,322,264,\"2,103\",937,\"3,235\",\"2,707\"\n",
      "2016,서초구,4989 ,3422 ,5,5,13,10,428,271,\"2,205\",\"1,107\",\"2,338\",\"2,029\"\n",
      "2016,강남구,8149 ,5905 ,5,5,39,42,516,413,\"3,587\",\"1,918\",\"4,002\",\"3,527\"\n",
      "2016,송파구,6090 ,4060 ,9,8,15,12,234,184,\"2,543\",\"1,048\",\"3,289\",\"2,808\"\n",
      "2016,강동구,4462 ,3273 ,4,5,14,13,160,152,\"1,754\",902,\"2,530\",\"2,201\"\n",
      "2017,합계,107835 ,79865 ,142,140,169,170,\"6,963\",\"6,558\",\"41,162\",\"21,421\",\"59,399\",\"51,576\"\n",
      "2017,종로구,4057 ,4437 ,7,9,10,15,253,\"1,412\",\"1,644\",905,\"2,143\",\"2,096\"\n",
      "2017,중구,4184 ,2851 ,1,-,9,9,267,149,\"1,846\",889,\"2,061\",\"1,804\"\n",
      "2017,용산구,4060 ,2936 ,1,1,5,4,327,289,\"1,346\",626,\"2,381\",\"2,016\"\n",
      "2017,성동구,2767 ,2031 ,1,1,3,3,132,106,\"1,072\",543,\"1,559\",\"1,378\"\n",
      "2017,광진구,4646 ,3289 ,6,5,13,8,261,208,\"2,220\",\"1,168\",\"2,146\",\"1,900\"\n",
      "2017,동대문구,3975 ,3274 ,11,10,3,5,165,149,\"1,547\",\"1,017\",\"2,249\",\"2,093\"\n",
      "2017,중랑구,4571 ,3392 ,5,5,3,4,172,144,\"1,533\",813,\"2,858\",\"2,426\"\n",
      "2017,성북구,3434 ,2479 ,7,7,8,8,173,134,\"1,344\",703,\"1,902\",\"1,627\"\n",
      "2017,강북구,3393 ,2824 ,8,8,7,5,208,153,\"1,014\",635,\"2,156\",\"2,023\"\n",
      "2017,도봉구,1999 ,1652 ,1,1,3,3,104,115,633,417,\"1,258\",\"1,116\"\n",
      "2017,노원구,4209 ,3047 ,4,4,9,7,180,155,\"1,538\",757,\"2,478\",\"2,124\"\n",
      "2017,은평구,3883 ,3207 ,6,6,4,4,230,213,\"1,387\",934,\"2,256\",\"2,050\"\n",
      "2017,서대문구,3113 ,2299 ,4,4,1,2,202,181,\"1,230\",719,\"1,676\",\"1,393\"\n",
      "2017,마포구,5278 ,3499 ,3,3,8,8,500,429,\"2,094\",837,\"2,673\",\"2,222\"\n",
      "2017,양천구,3882 ,2660 ,3,2,3,2,138,122,\"1,590\",756,\"2,148\",\"1,778\"\n",
      "2017,강서구,5135 ,3927 ,11,11,4,6,316,253,\"1,888\",\"1,113\",\"2,916\",\"2,544\"\n",
      "2017,구로구,4895 ,3408 ,7,8,8,6,328,181,\"1,725\",869,\"2,827\",\"2,344\"\n",
      "2017,금천구,3265 ,2572 ,5,5,5,5,240,212,\"1,141\",674,\"1,874\",\"1,676\"\n",
      "2017,영등포구,5969 ,4012 ,15,13,5,5,455,267,\"2,304\",\"1,108\",\"3,190\",\"2,619\"\n",
      "2017,동작구,3330 ,2242 ,1,1,7,9,396,173,\"1,226\",593,\"1,700\",\"1,466\"\n",
      "2017,관악구,5525 ,4154 ,8,7,7,6,379,323,\"1,979\",\"1,152\",\"3,152\",\"2,666\"\n",
      "2017,서초구,4708 ,3237 ,9,10,13,7,470,283,\"1,812\",835,\"2,404\",\"2,102\"\n",
      "2017,강남구,7720 ,5321 ,7,7,20,24,607,496,\"3,130\",\"1,383\",\"3,956\",\"3,411\"\n",
      "2017,송파구,5576 ,3870 ,6,6,1,3,288,242,\"2,274\",\"1,026\",\"3,007\",\"2,593\"\n",
      "2017,강동구,4261 ,3245 ,5,6,10,12,172,169,\"1,645\",949,\"2,429\",\"2,109\"\n",
      "\n"
     ]
    }
   ],
   "source": [
    "with open('서울시_범죄현황_20142017.csv', 'r') as file:\n",
    "    contents = file.read()\n",
    "\n",
    "print(contents)"
   ]
  },
  {
   "cell_type": "markdown",
   "metadata": {},
   "source": [
    "### 서울시 범죄장소 (2014 - 2017)"
   ]
  },
  {
   "cell_type": "code",
   "execution_count": 27,
   "metadata": {},
   "outputs": [
    {
     "name": "stdout",
     "output_type": "stream",
     "text": [
      "기간,구분,계,아파트 연립다세대,단독주택,노상,상점,숙박업소목욕탕,유흥접객업소,사무실,역대합실,교통수단,유원지,학교,금융기관,기타\n",
      "2014,계,130674 ,5671 ,7325 ,39067 ,5068 ,2320 ,5993 ,2940 ,874 ,2079 ,1057 ,679 ,1530 ,56071 \n",
      "2014,살인,158 ,22 ,36 ,33 ,-,8 ,6 ,9 ,-,1 ,1 ,-,-,42 \n",
      "2014,강도,343 ,37 ,36 ,92 ,45 ,10 ,17 ,11 ,2 ,1 ,5 ,-,-,87 \n",
      "2014,강간강제추행,5462 ,296 ,404 ,1007 ,102 ,471 ,364 ,127 ,144 ,694 ,48 ,26 ,1 ,1778 \n",
      "2014,절도,59393 ,2765 ,3655 ,11931 ,3988 ,1506 ,2452 ,1216 ,401 ,936 ,472 ,425 ,1482 ,28164 \n",
      "2014,폭력,65318 ,2551 ,3194 ,26004 ,933 ,325 ,3154 ,1577 ,327 ,447 ,531 ,228 ,47 ,26000 \n",
      "2015,계,126401 ,5039 ,6408 ,37548 ,4816 ,1638 ,5004 ,2458 ,843 ,2173 ,951 ,640 ,1322 ,57561 \n",
      "2015,살인,163 ,20 ,39 ,37 ,1 ,3 ,5 ,3 ,-,-,4 ,1 ,-,50 \n",
      "2015,강도,276 ,20 ,23 ,70 ,34 ,15 ,14 ,8 ,-,3 ,1 ,-,3 ,85 \n",
      "2015,강간강제추행,5449 ,283 ,346 ,924 ,73 ,395 ,342 ,91 ,181 ,812 ,51 ,46 ,1 ,1904 \n",
      "2015,절도,55307 ,1866 ,2498 ,11407 ,3903 ,952 ,2204 ,994 ,407 ,1026 ,424 ,397 ,1273 ,27956 \n",
      "2015,폭력,65206 ,2850 ,3502 ,25110 ,805 ,273 ,2439 ,1362 ,255 ,332 ,471 ,196 ,45 ,27566 \n",
      "2016,계,117839 ,4660 ,6266 ,35003 ,5385 ,1533 ,5098 ,2052 ,808 ,2197 ,854 ,636 ,1127 ,52220 \n",
      "2016,살인,148 ,12 ,30 ,22 ,1 ,4 ,8 ,1 ,-,-,2 ,-,1 ,67 \n",
      "2016,강도,262 ,20 ,15 ,86 ,34 ,9 ,13 ,8 ,-,1 ,2 ,-,1 ,73 \n",
      "2016,강간강제추행,6002 ,284 ,395 ,986 ,95 ,389 ,398 ,132 ,181 ,841 ,59 ,33 ,2 ,2207 \n",
      "2016,절도,46857 ,1504 ,2246 ,9356 ,4403 ,828 ,2034 ,682 ,355 ,889 ,367 ,400 ,1081 ,22712 \n",
      "2016,폭력,64570 ,2840 ,3580 ,24553 ,852 ,303 ,2645 ,1229 ,272 ,466 ,424 ,203 ,42 ,27161 \n",
      "2017,계,107835 ,4523 ,5092 ,32063 ,5047 ,1437 ,5077 ,1772 ,908 ,2359 ,754 ,518 ,1024 ,47261 \n",
      "2017,살인,142 ,21 ,25 ,27 ,1 ,5 ,10 ,5 ,-,1 ,1 ,-,-,46 \n",
      "2017,강도,169 ,20 ,11 ,43 ,22 ,8 ,5 ,5 ,1 ,-,1 ,-,3 ,50 \n",
      "2017,강간강제추행,6963 ,319 ,413 ,1061 ,116 ,408 ,495 ,130 ,242 ,1105 ,51 ,49 ,1 ,2573 \n",
      "2017,절도,41162 ,1209 ,1340 ,8255 ,4119 ,670 ,1809 ,564 ,335 ,744 ,282 ,247 ,990 ,20598 \n",
      "2017,폭력,59399 ,2954 ,3303 ,22677 ,789 ,346 ,2758 ,1068 ,330 ,509 ,419 ,222 ,30 ,23994 \n",
      "\n"
     ]
    }
   ],
   "source": [
    "with open('서울시_범죄장소_20142017.csv', 'r') as file:\n",
    "    contents = file.read()\n",
    "\n",
    "print(contents)"
   ]
  },
  {
   "cell_type": "markdown",
   "metadata": {},
   "source": [
    "## (9) 별첨2: (4)의 가공된 데이터 원본"
   ]
  },
  {
   "cell_type": "code",
   "execution_count": 12,
   "metadata": {},
   "outputs": [
    {
     "name": "stdout",
     "output_type": "stream",
     "text": [
      "[['\\ufeff\"기관명\"', '\"소계\"', '\"2013년도 이전\"', '\"2014년\"', '\"2015년\"', '\"2016년\"'], ['\"강남구\"', '\"3238\"', '\"1292\"', '\"430\"', '\"584\"', '\"932\"'], ['\"강동구\"', '\"1010\"', '\"379\"', '\"99\"', '\"155\"', '\"377\"'], ['\"강북구\"', '\"831\"', '\"369\"', '\"120\"', '\"138\"', '\"204\"'], ['\"강서구\"', '\"911\"', '\"388\"', '\"258\"', '\"184\"', '\"81\"'], ['\"관악구\"', '\"2109\"', '\"846\"', '\"260\"', '\"390\"', '\"613\"'], ['\"광진구\"', '\"878\"', '\"573\"', '\"78\"', '\"53\"', '\"174\"'], ['\"구로구\"', '\"1884\"', '\"1142\"', '\"173\"', '\"246\"', '\"323\"'], ['\"금천구\"', '\"1348\"', '\"674\"', '\"51\"', '\"269\"', '\"354\"'], ['\"노원구\"', '\"1566\"', '\"542\"', '\"57\"', '\"451\"', '\"516\"'], ['\"도봉구\"', '\"825\"', '\"238\"', '\"159\"', '\"42\"', '\"386\"'], ['\"동대문구\"', '\"1870\"', '\"1070\"', '\"23\"', '\"198\"', '\"579\"'], ['\"동작구\"', '\"1302\"', '\"544\"', '\"341\"', '\"103\"', '\"314\"'], ['\"마포구\"', '\"980\"', '\"314\"', '\"118\"', '\"169\"', '\"379\"'], ['\"서대문구\"', '\"1254\"', '\"844\"', '\"50\"', '\"68\"', '\"292\"'], ['\"서초구\"', '\"2297\"', '\"1406\"', '\"157\"', '\"336\"', '\"398\"'], ['\"성동구\"', '\"1327\"', '\"730\"', '\"91\"', '\"241\"', '\"265\"'], ['\"성북구\"', '\"1651\"', '\"1009\"', '\"78\"', '\"360\"', '\"204\"'], ['\"송파구\"', '\"1081\"', '\"529\"', '\"21\"', '\"68\"', '\"463\"'], ['\"양천구\"', '\"2482\"', '\"1843\"', '\"142\"', '\"30\"', '\"467\"'], ['\"영등포구\"', '\"1277\"', '\"495\"', '\"214\"', '\"195\"', '\"373\"'], ['\"용산구\"', '\"2096\"', '\"1368\"', '\"218\"', '\"112\"', '\"398\"'], ['\"은평구\"', '\"2108\"', '\"1138\"', '\"224\"', '\"278\"', '\"468\"'], ['\"종로구\"', '\"1619\"', '\"464\"', '\"314\"', '\"211\"', '\"630\"'], ['\"중구\"', '\"1023\"', '\"413\"', '\"190\"', '\"72\"', '\"348\"'], ['\"중랑구\"', '\"916\"', '\"509\"', '\"121\"', '\"177\"', '\"109\"']]\n"
     ]
    }
   ],
   "source": [
    "fileMatrix1 = []\n",
    "\n",
    "file = open('서울시 자치구 년도별 CCTV 설치 현황.csv', 'r',encoding='UTF8')\n",
    "\n",
    "lineContent = file.readline()\n",
    "\n",
    "while lineContent != '':\n",
    "    fileMatrix1.append(lineContent.strip('\\n').split(','))\n",
    "    lineContent = file.readline()\n",
    "\n",
    "\n",
    "print(fileMatrix1)"
   ]
  },
  {
   "cell_type": "code",
   "execution_count": 9,
   "metadata": {},
   "outputs": [
    {
     "name": "stdout",
     "output_type": "stream",
     "text": [
      "[['\\ufeff\"기관명\"', '\"소계\"', '\"방범용\"', '\"도시공원', ' 놀이터\"', '\"어린이 보호\"', '\"쓰레기 무단투기\"', '\"기타\"'], ['\"강남구\"', '\"3238\"', '\"2076\"', '\"261\"', '\"443\"', '\"0\"', '\"458\"'], ['\"강동구\"', '\"1010\"', '\"537\"', '\"84\"', '\"125\"', '\"27\"', '\"237\"'], ['\"강북구\"', '\"831\"', '\"469\"', '\"86\"', '\"108\"', '\"85\"', '\"83\"'], ['\"강서구\"', '\"911\"', '\"623\"', '\"51\"', '\"182\"', '\"28\"', '\"27\"'], ['\"관악구\"', '\"2109\"', '\"1083\"', '\"161\"', '\"195\"', '\"57\"', '\"613\"'], ['\"광진구\"', '\"878\"', '\"376\"', '\"51\"', '\"208\"', '\"72\"', '\"171\"'], ['\"구로구\"', '\"1884\"', '\"823\"', '\"294\"', '\"415\"', '\"29\"', '\"323\"'], ['\"금천구\"', '\"1348\"', '\"676\"', '\"119\"', '\"188\"', '\"32\"', '\"333\"'], ['\"노원구\"', '\"1566\"', '\"753\"', '\"192\"', '\"205\"', '\"115\"', '\"301\"'], ['\"도봉구\"', '\"825\"', '\"260\"', '\"89\"', '\"89\"', '\"47\"', '\"340\"'], ['\"동대문구\"', '\"1870\"', '\"948\"', '\"71\"', '\"247\"', '\"28\"', '\"576\"'], ['\"동작구\"', '\"1302\"', '\"693\"', '\"88\"', '\"291\"', '\"19\"', '\"211\"'], ['\"마포구\"', '\"980\"', '\"387\"', '\"86\"', '\"101\"', '\"0\"', '\"406\"'], ['\"서대문구\"', '\"1254\"', '\"603\"', '\"230\"', '\"129\"', '\"0\"', '\"292\"'], ['\"서초구\"', '\"2297\"', '\"1552\"', '\"62\"', '\"316\"', '\"0\"', '\"367\"'], ['\"성동구\"', '\"1327\"', '\"663\"', '\"56\"', '\"305\"', '\"38\"', '\"265\"'], ['\"성북구\"', '\"1651\"', '\"974\"', '\"72\"', '\"320\"', '\"98\"', '\"187\"'], ['\"송파구\"', '\"1081\"', '\"331\"', '\"139\"', '\"129\"', '\"19\"', '\"463\"'], ['\"양천구\"', '\"2482\"', '\"1216\"', '\"77\"', '\"722\"', '\"19\"', '\"448\"'], ['\"영등포구\"', '\"1277\"', '\"653\"', '\"91\"', '\"122\"', '\"38\"', '\"373\"'], ['\"용산구\"', '\"2096\"', '\"1336\"', '\"113\"', '\"168\"', '\"7\"', '\"472\"'], ['\"은평구\"', '\"2108\"', '\"1147\"', '\"196\"', '\"527\"', '\"3\"', '\"235\"'], ['\"종로구\"', '\"1619\"', '\"891\"', '\"73\"', '\"38\"', '\"0\"', '\"617\"'], ['\"중구\"', '\"1023\"', '\"495\"', '\"96\"', '\"20\"', '\"60\"', '\"352\"'], ['\"중랑구\"', '\"916\"', '\"532\"', '\"74\"', '\"54\"', '\"0\"', '\"256\"']]\n"
     ]
    }
   ],
   "source": [
    "fileMatrix2 = []\n",
    "\n",
    "file = open('서울시 자치구 목적별 CCTV 설치 현황.csv', 'r',encoding='UTF8')\n",
    "\n",
    "lineContent = file.readline()\n",
    "\n",
    "while lineContent != '':\n",
    "    fileMatrix2.append(lineContent.strip('\\n').split(','))\n",
    "    lineContent = file.readline()\n",
    "    \n",
    "print(fileMatrix2)"
   ]
  },
  {
   "cell_type": "code",
   "execution_count": 14,
   "metadata": {},
   "outputs": [
    {
     "name": "stdout",
     "output_type": "stream",
     "text": [
      "[['기간', '자치구', '합계', '합계', '살인', '살인', '강도', '강도', '강간강제추행', '강간강제추행', '절도', '절도', '폭력', '폭력'], ['기간', '자치구', '발생', '검거', '발생', '검거', '발생', '검거', '발생', '검거', '발생', '검거', '발생', '검거'], ['2014', '합계', '130674 ', '79061 ', '158', '152', '343', '299', '\"5', '462\"', '\"4', '957\"', '\"59', '393\"', '\"19', '120\"', '\"65', '318\"', '\"54', '533\"'], ['2014', '종로구', '5021 ', '4610 ', '3', '7', '12', '15', '226', '948', '\"2', '272\"', '\"1', '281\"', '\"2', '508\"', '\"2', '359\"'], ['2014', '중구', '5231 ', '3188 ', '6', '5', '13', '13', '221', '161', '\"2', '576\"', '887', '\"2', '415\"', '\"2', '122\"'], ['2014', '용산구', '3799 ', '2340 ', '1', '2', '7', '7', '213', '169', '\"1', '560\"', '522', '\"2', '018\"', '\"1', '640\"'], ['2014', '성동구', '3582 ', '2048 ', '1', '1', '5', '6', '141', '103', '\"1', '753\"', '529', '\"1', '682\"', '\"1', '409\"'], ['2014', '광진구', '6268 ', '3531 ', '8', '9', '16', '22', '249', '199', '\"3', '167\"', '\"1', '001\"', '\"2', '828\"', '\"2', '300\"'], ['2014', '동대문구', '4363 ', '2882 ', '12', '11', '13', '8', '141', '112', '\"1', '809\"', '676', '\"2', '388\"', '\"2', '075\"'], ['2014', '중랑구', '5353 ', '3259 ', '11', '10', '14', '11', '163', '118', '\"2', '390\"', '823', '\"2', '775\"', '\"2', '297\"'], ['2014', '성북구', '4606 ', '3028 ', '8', '5', '16', '20', '165', '128', '\"2', '130\"', '935', '\"2', '287\"', '\"1', '940\"'], ['2014', '강북구', '4030 ', '2806 ', '6', '5', '21', '10', '189', '152', '\"1', '494\"', '575', '\"2', '320\"', '\"2', '064\"'], ['2014', '도봉구', '3124 ', '1986 ', '6', '7', '11', '15', '172', '159', '\"1', '350\"', '478', '\"1', '585\"', '\"1', '327\"'], ['2014', '노원구', '5312 ', '3300 ', '5', '4', '8', '7', '173', '136', '\"2', '404\"', '803', '\"2', '722\"', '\"2', '350\"'], ['2014', '은평구', '5431 ', '3325 ', '5', '3', '24', '21', '188', '158', '\"2', '352\"', '798', '\"2', '862\"', '\"2', '345\"'], ['2014', '서대문구', '4194 ', '2588 ', '3', '3', '4', '7', '185', '150', '\"1', '883\"', '665', '\"2', '119\"', '\"1', '763\"'], ['2014', '마포구', '5740 ', '3136 ', '4', '4', '22', '9', '265', '218', '\"2', '763\"', '742', '\"2', '686\"', '\"2', '163\"'], ['2014', '양천구', '4642 ', '2654 ', '5', '5', '11', '10', '129', '96', '\"2', '058\"', '630', '\"2', '439\"', '\"1', '913\"'], ['2014', '강서구', '5289 ', '3225 ', '8', '6', '9', '9', '214', '179', '\"2', '341\"', '734', '\"2', '717\"', '\"2', '297\"'], ['2014', '구로구', '5389 ', '2985 ', '3', '3', '14', '10', '252', '186', '\"2', '377\"', '579', '\"2', '743\"', '\"2', '207\"'], ['2014', '금천구', '3842 ', '2434 ', '7', '7', '9', '6', '162', '133', '\"1', '552\"', '496', '\"2', '112\"', '\"1', '792\"'], ['2014', '영등포구', '7003 ', '4072 ', '14', '15', '10', '5', '250', '183', '\"3', '080\"', '892', '\"3', '649\"', '\"2', '977\"'], ['2014', '동작구', '3869 ', '2312 ', '2', '2', '9', '7', '203', '120', '\"1', '787\"', '603', '\"1', '868\"', '\"1', '580\"'], ['2014', '관악구', '6781 ', '3701 ', '7', '8', '25', '22', '361', '238', '\"3', '029\"', '784', '\"3', '359\"', '\"2', '649\"'], ['2014', '서초구', '5558 ', '3122 ', '6', '9', '14', '12', '285', '184', '\"2', '747\"', '782', '\"2', '506\"', '\"2', '135\"'], ['2014', '강남구', '8851 ', '5262 ', '13', '9', '37', '29', '512', '403', '\"3', '895\"', '\"1', '193\"', '\"4', '394\"', '\"3', '628\"'], ['2014', '송파구', '8004 ', '3982 ', '9', '8', '9', '10', '255', '195', '\"4', '199\"', '885', '\"3', '532\"', '\"2', '884\"'], ['2014', '강동구', '5392 ', '3285 ', '5', '4', '10', '8', '148', '129', '\"2', '425\"', '827', '\"2', '804\"', '\"2', '317\"'], ['2015', '합계', '126401 ', '82680 ', '163', '156', '276', '257', '\"5', '449\"', '\"5', '069\"', '\"55', '307\"', '\"21', '842\"', '\"65', '206\"', '\"55', '356\"'], ['2015', '종로구', '4705 ', '4430 ', '6', '8', '11', '13', '211', '\"1', '139\"', '\"2', '184\"', '\"1', '145\"', '\"2', '293\"', '\"2', '125\"'], ['2015', '중구', '4954 ', '2942 ', '3', '2', '9', '6', '170', '111', '\"2', '548\"', '859', '\"2', '224\"', '\"1', '964\"'], ['2015', '용산구', '3820 ', '2483 ', '5', '5', '14', '14', '194', '173', '\"1', '557\"', '587', '\"2', '050\"', '\"1', '704\"'], ['2015', '성동구', '3358 ', '2123 ', '4', '4', '9', '8', '126', '119', '\"1', '607\"', '597', '\"1', '612\"', '\"1', '395\"'], ['2015', '광진구', '5909 ', '3707 ', '4', '4', '14', '26', '240', '220', '\"3', '026\"', '\"1', '277\"', '\"2', '625\"', '\"2', '180\"'], ['2015', '동대문구', '4720 ', '3205 ', '5', '5', '13', '13', '173', '146', '\"1', '981\"', '814', '\"2', '548\"', '\"2', '227\"'], ['2015', '중랑구', '5193 ', '3405 ', '13', '12', '11', '9', '187', '148', '\"2', '135\"', '829', '\"2', '847\"', '\"2', '407\"'], ['2015', '성북구', '4154 ', '2729 ', '5', '5', '5', '4', '150', '124', '\"1', '785\"', '741', '\"2', '209\"', '\"1', '855\"'], ['2015', '강북구', '4257 ', '3113 ', '7', '8', '14', '13', '153', '126', '\"1', '434\"', '618', '\"2', '649\"', '\"2', '348\"'], ['2015', '도봉구', '2664 ', '1900 ', '3', '3', '9', '10', '102', '106', '\"1', '063\"', '478', '\"1', '487\"', '\"1', '303\"'], ['2015', '노원구', '5130 ', '3268 ', '10', '10', '7', '7', '197', '121', '\"2', '193\"', '801', '\"2', '723\"', '\"2', '329\"'], ['2015', '은평구', '4745 ', '3167 ', '3', '3', '9', '6', '166', '141', '\"1', '914\"', '711', '\"2', '653\"', '\"2', '306\"'], ['2015', '서대문구', '4029 ', '2579 ', '2', '2', '5', '4', '154', '124', '\"1', '812\"', '738', '\"2', '056\"', '\"1', '711\"'], ['2015', '마포구', '5854 ', '3597 ', '8', '8', '14', '10', '294', '247', '\"2', '555\"', '813', '\"2', '983\"', '\"2', '519\"'], ['2015', '양천구', '4528 ', '2815 ', '3', '5', '6', '3', '120', '105', '\"1', '890\"', '672', '\"2', '509\"', '\"2', '030\"'], ['2015', '강서구', '5585 ', '4190 ', '7', '8', '13', '13', '262', '191', '\"2', '096\"', '\"1', '260\"', '\"3', '207\"', '\"2', '718\"'], ['2015', '구로구', '5646 ', '3502 ', '8', '6', '15', '11', '281', '164', '\"2', '335\"', '889', '\"3', '007\"', '\"2', '432\"'], ['2015', '금천구', '3781 ', '2796 ', '3', '4', '6', '6', '151', '122', '\"1', '567\"', '888', '\"2', '054\"', '\"1', '776\"'], ['2015', '영등포구', '6867 ', '4154 ', '14', '12', '22', '20', '295', '183', '\"2', '964\"', '978', '\"3', '572\"', '\"2', '961\"'], ['2015', '동작구', '4074 ', '2397 ', '5', '5', '9', '5', '285', '139', '\"1', '865\"', '661', '\"1', '910\"', '\"1', '587\"'], ['2015', '관악구', '6345 ', '3712 ', '9', '8', '12', '14', '320', '221', '\"2', '706\"', '827', '\"3', '298\"', '\"2', '642\"'], ['2015', '서초구', '5444 ', '3450 ', '8', '6', '9', '6', '393', '249', '\"2', '635\"', '\"1', '091\"', '\"2', '399\"', '\"2', '098\"'], ['2015', '강남구', '8617 ', '5732 ', '13', '10', '21', '18', '449', '349', '\"3', '850\"', '\"1', '650\"', '\"4', '284\"', '\"3', '705\"'], ['2015', '송파구', '6778 ', '4113 ', '11', '10', '13', '10', '220', '178', '\"3', '239\"', '\"1', '129\"', '\"3', '295\"', '\"2', '786\"'], ['2015', '강동구', '5244 ', '3171 ', '4', '3', '6', '8', '156', '123', '\"2', '366\"', '789', '\"2', '712\"', '\"2', '248\"'], ['2016', '합계', '117839 ', '84421 ', '148', '147', '262', '257', '\"6', '002\"', '\"5', '565\"', '\"46', '857\"', '\"22', '566\"', '\"64', '570\"', '\"55', '886\"'], ['2016', '종로구', '4459 ', '4298 ', '6', '5', '12', '14', '238', '\"1', '106\"', '\"1', '940\"', '\"1', '020\"', '\"2', '263\"', '\"2', '153\"'], ['2016', '중구', '4584 ', '3068 ', '3', '3', '8', '7', '198', '148', '\"2', '150\"', '914', '\"2', '225\"', '\"1', '996\"'], ['2016', '용산구', '4137 ', '2835 ', '4', '4', '9', '10', '251', '214', '\"1', '489\"', '599', '\"2', '384\"', '\"2', '008\"'], ['2016', '성동구', '3026 ', '2392 ', '4', '5', '3', '5', '104', '78', '\"1', '296\"', '896', '\"1', '619\"', '\"1', '408\"'], ['2016', '광진구', '5322 ', '3312 ', '4', '4', '11', '6', '279', '234', '\"2', '636\"', '\"1', '057\"', '\"2', '392\"', '\"2', '011\"'], ['2016', '동대문구', '4787 ', '3623 ', '5', '5', '10', '12', '190', '158', '\"1', '940\"', '\"1', '071\"', '\"2', '642\"', '\"2', '377\"'], ['2016', '중랑구', '5041 ', '3935 ', '8', '7', '14', '14', '164', '150', '\"1', '691\"', '\"1', '052\"', '\"3', '164\"', '\"2', '712\"'], ['2016', '성북구', '3744 ', '2672 ', '4', '3', '8', '8', '154', '117', '\"1', '470\"', '725', '\"2', '108\"', '\"1', '819\"'], ['2016', '강북구', '4229 ', '3323 ', '7', '6', '5', '4', '217', '159', '\"1', '222\"', '672', '\"2', '778\"', '\"2', '482\"'], ['2016', '도봉구', '2438 ', '1930 ', '3', '3', '5', '5', '123', '121', '866', '492', '\"1', '441\"', '\"1', '309\"'], ['2016', '노원구', '4543 ', '3021 ', '5', '6', '6', '9', '159', '142', '\"1', '857\"', '740', '\"2', '516\"', '\"2', '124\"'], ['2016', '은평구', '4501 ', '3353 ', '6', '6', '9', '7', '156', '142', '\"1', '666\"', '890', '\"2', '664\"', '\"2', '308\"'], ['2016', '서대문구', '3665 ', '2554 ', '6', '7', '5', '4', '175', '147', '\"1', '503\"', '752', '\"1', '976\"', '\"1', '644\"'], ['2016', '마포구', '5873 ', '3771 ', '4', '4', '4', '7', '399', '320', '\"2', '527\"', '940', '\"2', '939\"', '\"2', '500\"'], ['2016', '양천구', '4112 ', '2793 ', '5', '5', '7', '7', '131', '108', '\"1', '719\"', '755', '\"2', '250\"', '\"1', '918\"'], ['2016', '강서구', '5450 ', '4097 ', '9', '10', '10', '10', '275', '239', '\"1', '952\"', '\"1', '070\"', '\"3', '204\"', '\"2', '768\"'], ['2016', '구로구', '5366 ', '3744 ', '9', '9', '10', '13', '273', '181', '\"1', '910\"', '861', '\"3', '164\"', '\"2', '680\"'], ['2016', '금천구', '3645 ', '2756 ', '6', '6', '7', '7', '175', '143', '\"1', '264\"', '654', '\"2', '193\"', '\"1', '946\"'], ['2016', '영등포구', '6322 ', '4199 ', '13', '13', '19', '14', '356', '225', '\"2', '341\"', '940', '\"3', '593\"', '\"3', '007\"'], ['2016', '동작구', '3227 ', '2160 ', '8', '6', '7', '7', '325', '149', '\"1', '226\"', '554', '\"1', '661\"', '\"1', '444\"'], ['2016', '관악구', '5678 ', '3925 ', '6', '7', '12', '10', '322', '264', '\"2', '103\"', '937', '\"3', '235\"', '\"2', '707\"'], ['2016', '서초구', '4989 ', '3422 ', '5', '5', '13', '10', '428', '271', '\"2', '205\"', '\"1', '107\"', '\"2', '338\"', '\"2', '029\"'], ['2016', '강남구', '8149 ', '5905 ', '5', '5', '39', '42', '516', '413', '\"3', '587\"', '\"1', '918\"', '\"4', '002\"', '\"3', '527\"'], ['2016', '송파구', '6090 ', '4060 ', '9', '8', '15', '12', '234', '184', '\"2', '543\"', '\"1', '048\"', '\"3', '289\"', '\"2', '808\"'], ['2016', '강동구', '4462 ', '3273 ', '4', '5', '14', '13', '160', '152', '\"1', '754\"', '902', '\"2', '530\"', '\"2', '201\"'], ['2017', '합계', '107835 ', '79865 ', '142', '140', '169', '170', '\"6', '963\"', '\"6', '558\"', '\"41', '162\"', '\"21', '421\"', '\"59', '399\"', '\"51', '576\"'], ['2017', '종로구', '4057 ', '4437 ', '7', '9', '10', '15', '253', '\"1', '412\"', '\"1', '644\"', '905', '\"2', '143\"', '\"2', '096\"'], ['2017', '중구', '4184 ', '2851 ', '1', '-', '9', '9', '267', '149', '\"1', '846\"', '889', '\"2', '061\"', '\"1', '804\"'], ['2017', '용산구', '4060 ', '2936 ', '1', '1', '5', '4', '327', '289', '\"1', '346\"', '626', '\"2', '381\"', '\"2', '016\"'], ['2017', '성동구', '2767 ', '2031 ', '1', '1', '3', '3', '132', '106', '\"1', '072\"', '543', '\"1', '559\"', '\"1', '378\"'], ['2017', '광진구', '4646 ', '3289 ', '6', '5', '13', '8', '261', '208', '\"2', '220\"', '\"1', '168\"', '\"2', '146\"', '\"1', '900\"'], ['2017', '동대문구', '3975 ', '3274 ', '11', '10', '3', '5', '165', '149', '\"1', '547\"', '\"1', '017\"', '\"2', '249\"', '\"2', '093\"'], ['2017', '중랑구', '4571 ', '3392 ', '5', '5', '3', '4', '172', '144', '\"1', '533\"', '813', '\"2', '858\"', '\"2', '426\"'], ['2017', '성북구', '3434 ', '2479 ', '7', '7', '8', '8', '173', '134', '\"1', '344\"', '703', '\"1', '902\"', '\"1', '627\"'], ['2017', '강북구', '3393 ', '2824 ', '8', '8', '7', '5', '208', '153', '\"1', '014\"', '635', '\"2', '156\"', '\"2', '023\"'], ['2017', '도봉구', '1999 ', '1652 ', '1', '1', '3', '3', '104', '115', '633', '417', '\"1', '258\"', '\"1', '116\"'], ['2017', '노원구', '4209 ', '3047 ', '4', '4', '9', '7', '180', '155', '\"1', '538\"', '757', '\"2', '478\"', '\"2', '124\"'], ['2017', '은평구', '3883 ', '3207 ', '6', '6', '4', '4', '230', '213', '\"1', '387\"', '934', '\"2', '256\"', '\"2', '050\"'], ['2017', '서대문구', '3113 ', '2299 ', '4', '4', '1', '2', '202', '181', '\"1', '230\"', '719', '\"1', '676\"', '\"1', '393\"'], ['2017', '마포구', '5278 ', '3499 ', '3', '3', '8', '8', '500', '429', '\"2', '094\"', '837', '\"2', '673\"', '\"2', '222\"'], ['2017', '양천구', '3882 ', '2660 ', '3', '2', '3', '2', '138', '122', '\"1', '590\"', '756', '\"2', '148\"', '\"1', '778\"'], ['2017', '강서구', '5135 ', '3927 ', '11', '11', '4', '6', '316', '253', '\"1', '888\"', '\"1', '113\"', '\"2', '916\"', '\"2', '544\"'], ['2017', '구로구', '4895 ', '3408 ', '7', '8', '8', '6', '328', '181', '\"1', '725\"', '869', '\"2', '827\"', '\"2', '344\"'], ['2017', '금천구', '3265 ', '2572 ', '5', '5', '5', '5', '240', '212', '\"1', '141\"', '674', '\"1', '874\"', '\"1', '676\"'], ['2017', '영등포구', '5969 ', '4012 ', '15', '13', '5', '5', '455', '267', '\"2', '304\"', '\"1', '108\"', '\"3', '190\"', '\"2', '619\"'], ['2017', '동작구', '3330 ', '2242 ', '1', '1', '7', '9', '396', '173', '\"1', '226\"', '593', '\"1', '700\"', '\"1', '466\"'], ['2017', '관악구', '5525 ', '4154 ', '8', '7', '7', '6', '379', '323', '\"1', '979\"', '\"1', '152\"', '\"3', '152\"', '\"2', '666\"'], ['2017', '서초구', '4708 ', '3237 ', '9', '10', '13', '7', '470', '283', '\"1', '812\"', '835', '\"2', '404\"', '\"2', '102\"'], ['2017', '강남구', '7720 ', '5321 ', '7', '7', '20', '24', '607', '496', '\"3', '130\"', '\"1', '383\"', '\"3', '956\"', '\"3', '411\"'], ['2017', '송파구', '5576 ', '3870 ', '6', '6', '1', '3', '288', '242', '\"2', '274\"', '\"1', '026\"', '\"3', '007\"', '\"2', '593\"'], ['2017', '강동구', '4261 ', '3245 ', '5', '6', '10', '12', '172', '169', '\"1', '645\"', '949', '\"2', '429\"', '\"2', '109\"']]\n"
     ]
    }
   ],
   "source": [
    "fileMatrix3 = []\n",
    "\n",
    "file = open('서울시_범죄현황_20142017.csv', 'r')\n",
    "\n",
    "lineContent = file.readline()\n",
    "\n",
    "while lineContent != '':\n",
    "    fileMatrix3.append(lineContent.strip('\\n').split(','))\n",
    "    lineContent = file.readline()\n",
    "    \n",
    "print(fileMatrix3)"
   ]
  },
  {
   "cell_type": "code",
   "execution_count": 15,
   "metadata": {},
   "outputs": [
    {
     "name": "stdout",
     "output_type": "stream",
     "text": [
      "[['기간', '구분', '계', '아파트 연립다세대', '단독주택', '노상', '상점', '숙박업소목욕탕', '유흥접객업소', '사무실', '역대합실', '교통수단', '유원지', '학교', '금융기관', '기타'], ['2014', '계', '130674 ', '5671 ', '7325 ', '39067 ', '5068 ', '2320 ', '5993 ', '2940 ', '874 ', '2079 ', '1057 ', '679 ', '1530 ', '56071 '], ['2014', '살인', '158 ', '22 ', '36 ', '33 ', '-', '8 ', '6 ', '9 ', '-', '1 ', '1 ', '-', '-', '42 '], ['2014', '강도', '343 ', '37 ', '36 ', '92 ', '45 ', '10 ', '17 ', '11 ', '2 ', '1 ', '5 ', '-', '-', '87 '], ['2014', '강간강제추행', '5462 ', '296 ', '404 ', '1007 ', '102 ', '471 ', '364 ', '127 ', '144 ', '694 ', '48 ', '26 ', '1 ', '1778 '], ['2014', '절도', '59393 ', '2765 ', '3655 ', '11931 ', '3988 ', '1506 ', '2452 ', '1216 ', '401 ', '936 ', '472 ', '425 ', '1482 ', '28164 '], ['2014', '폭력', '65318 ', '2551 ', '3194 ', '26004 ', '933 ', '325 ', '3154 ', '1577 ', '327 ', '447 ', '531 ', '228 ', '47 ', '26000 '], ['2015', '계', '126401 ', '5039 ', '6408 ', '37548 ', '4816 ', '1638 ', '5004 ', '2458 ', '843 ', '2173 ', '951 ', '640 ', '1322 ', '57561 '], ['2015', '살인', '163 ', '20 ', '39 ', '37 ', '1 ', '3 ', '5 ', '3 ', '-', '-', '4 ', '1 ', '-', '50 '], ['2015', '강도', '276 ', '20 ', '23 ', '70 ', '34 ', '15 ', '14 ', '8 ', '-', '3 ', '1 ', '-', '3 ', '85 '], ['2015', '강간강제추행', '5449 ', '283 ', '346 ', '924 ', '73 ', '395 ', '342 ', '91 ', '181 ', '812 ', '51 ', '46 ', '1 ', '1904 '], ['2015', '절도', '55307 ', '1866 ', '2498 ', '11407 ', '3903 ', '952 ', '2204 ', '994 ', '407 ', '1026 ', '424 ', '397 ', '1273 ', '27956 '], ['2015', '폭력', '65206 ', '2850 ', '3502 ', '25110 ', '805 ', '273 ', '2439 ', '1362 ', '255 ', '332 ', '471 ', '196 ', '45 ', '27566 '], ['2016', '계', '117839 ', '4660 ', '6266 ', '35003 ', '5385 ', '1533 ', '5098 ', '2052 ', '808 ', '2197 ', '854 ', '636 ', '1127 ', '52220 '], ['2016', '살인', '148 ', '12 ', '30 ', '22 ', '1 ', '4 ', '8 ', '1 ', '-', '-', '2 ', '-', '1 ', '67 '], ['2016', '강도', '262 ', '20 ', '15 ', '86 ', '34 ', '9 ', '13 ', '8 ', '-', '1 ', '2 ', '-', '1 ', '73 '], ['2016', '강간강제추행', '6002 ', '284 ', '395 ', '986 ', '95 ', '389 ', '398 ', '132 ', '181 ', '841 ', '59 ', '33 ', '2 ', '2207 '], ['2016', '절도', '46857 ', '1504 ', '2246 ', '9356 ', '4403 ', '828 ', '2034 ', '682 ', '355 ', '889 ', '367 ', '400 ', '1081 ', '22712 '], ['2016', '폭력', '64570 ', '2840 ', '3580 ', '24553 ', '852 ', '303 ', '2645 ', '1229 ', '272 ', '466 ', '424 ', '203 ', '42 ', '27161 '], ['2017', '계', '107835 ', '4523 ', '5092 ', '32063 ', '5047 ', '1437 ', '5077 ', '1772 ', '908 ', '2359 ', '754 ', '518 ', '1024 ', '47261 '], ['2017', '살인', '142 ', '21 ', '25 ', '27 ', '1 ', '5 ', '10 ', '5 ', '-', '1 ', '1 ', '-', '-', '46 '], ['2017', '강도', '169 ', '20 ', '11 ', '43 ', '22 ', '8 ', '5 ', '5 ', '1 ', '-', '1 ', '-', '3 ', '50 '], ['2017', '강간강제추행', '6963 ', '319 ', '413 ', '1061 ', '116 ', '408 ', '495 ', '130 ', '242 ', '1105 ', '51 ', '49 ', '1 ', '2573 '], ['2017', '절도', '41162 ', '1209 ', '1340 ', '8255 ', '4119 ', '670 ', '1809 ', '564 ', '335 ', '744 ', '282 ', '247 ', '990 ', '20598 '], ['2017', '폭력', '59399 ', '2954 ', '3303 ', '22677 ', '789 ', '346 ', '2758 ', '1068 ', '330 ', '509 ', '419 ', '222 ', '30 ', '23994 ']]\n"
     ]
    }
   ],
   "source": [
    "fileMatrix4 = []\n",
    "\n",
    "file = open('서울시_범죄장소_20142017.csv', 'r')\n",
    "\n",
    "lineContent = file.readline()\n",
    "\n",
    "while lineContent != '':\n",
    "    fileMatrix4.append(lineContent.strip('\\n').split(','))\n",
    "    lineContent = file.readline()\n",
    "    \n",
    "print(fileMatrix4)"
   ]
  },
  {
   "cell_type": "code",
   "execution_count": null,
   "metadata": {},
   "outputs": [],
   "source": []
  }
 ],
 "metadata": {
  "kernelspec": {
   "display_name": "Python 3",
   "language": "python",
   "name": "python3"
  },
  "language_info": {
   "codemirror_mode": {
    "name": "ipython",
    "version": 3
   },
   "file_extension": ".py",
   "mimetype": "text/x-python",
   "name": "python",
   "nbconvert_exporter": "python",
   "pygments_lexer": "ipython3",
   "version": "3.7.1"
  }
 },
 "nbformat": 4,
 "nbformat_minor": 2
}
